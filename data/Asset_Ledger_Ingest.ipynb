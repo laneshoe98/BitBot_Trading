{
 "cells": [
  {
   "cell_type": "code",
   "execution_count": 27,
   "metadata": {},
   "outputs": [],
   "source": [
    "#Imports\n",
    "import pandas as pd\n",
    "import os"
   ]
  },
  {
   "cell_type": "code",
   "execution_count": 28,
   "metadata": {},
   "outputs": [],
   "source": [
    "# Load the CSV data\n",
    "file_path = 'Accounts_History_2021.csv'  # Update this path as needed\n",
    "data = pd.read_csv(file_path)"
   ]
  },
  {
   "cell_type": "code",
   "execution_count": 29,
   "metadata": {},
   "outputs": [],
   "source": [
    "# Step 1: Remove any leading/trailing whitespace from all string columns\n",
    "data = data.apply(lambda x: x.str.strip() if x.dtype == \"object\" else x)"
   ]
  },
  {
   "cell_type": "code",
   "execution_count": 30,
   "metadata": {},
   "outputs": [],
   "source": [
    "# Step 2: Remove rows where 'ticker' is NaN to clean extraneous text\n",
    "data = data.dropna(subset=['Symbol'])  # 'Symbol' is renamed to 'ticker' later in Step 3"
   ]
  },
  {
   "cell_type": "code",
   "execution_count": 31,
   "metadata": {},
   "outputs": [],
   "source": [
    "# Step 3: Rename columns\n",
    "rename_columns = {\n",
    "    'Run Date': 'transaction_date',\n",
    "    'Account': 'portfolio_name',\n",
    "    'Action': 'notes',\n",
    "    'Symbol': 'ticker',\n",
    "    'Description': 'asset_name',\n",
    "    'Quantity': 'quantity',\n",
    "    'Price': 'price',\n",
    "    'Amount': 'transaction_amount',\n",
    "    'Commission': 'commission',\n",
    "    'Fees': 'fees'\n",
    "}\n",
    "data = data.rename(columns=rename_columns)\n"
   ]
  },
  {
   "cell_type": "code",
   "execution_count": null,
   "metadata": {},
   "outputs": [],
   "source": [
    "# Step 4: Fill missing values in 'commission' and 'fees' columns with 0\n",
    "data['commission'] = data['commission'].fillna(0)\n",
    "data['fees'] = data['fees'].fillna(0)"
   ]
  },
  {
   "cell_type": "code",
   "execution_count": null,
   "metadata": {},
   "outputs": [],
   "source": [
    "# Step 5: Delete unnecessary columns\n",
    "columns_to_delete = [\n",
    "    'Type', 'Exchange Quantity', 'Exchange Currency', 'Currency', \n",
    "    'Exchange Rate', 'Accrued Interest', 'Settlement Date'\n",
    "]\n",
    "data = data.drop(columns=columns_to_delete, errors='ignore')"
   ]
  },
  {
   "cell_type": "code",
   "execution_count": null,
   "metadata": {},
   "outputs": [],
   "source": [
    "# Step 6: Reorder columns to match the specified order\n",
    "final_columns_order = [\n",
    "    'ticker', 'asset_name', 'quantity', 'price', 'transaction_amount', \n",
    "    'commission', 'fees', 'portfolio_name', 'transaction_date', 'notes'\n",
    "]\n",
    "data = data[final_columns_order]"
   ]
  },
  {
   "cell_type": "code",
   "execution_count": null,
   "metadata": {},
   "outputs": [],
   "source": [
    "# Step 7: Convert 'transaction_date' to the correct format for SQL insertion (YYYY-MM-DD)\n",
    "data['transaction_date'] = pd.to_datetime(data['transaction_date'], format='%m/%d/%Y').dt.strftime('%Y-%m-%d')"
   ]
  },
  {
   "cell_type": "code",
   "execution_count": null,
   "metadata": {},
   "outputs": [
    {
     "name": "stdout",
     "output_type": "stream",
     "text": [
      "Cleaned file saved as: Accounts_History_2021v2.csv\n"
     ]
    }
   ],
   "source": [
    "# Step 8: Save to a new CSV file with '_cleaned' suffix\n",
    "cleaned_file_path = os.path.splitext(file_path)[0] + '_cleaned.csv'\n",
    "data.to_csv(cleaned_file_path, index=False)\n",
    "\n",
    "print(f\"Cleaned file saved as: {cleaned_file_path}\")"
   ]
  },
  {
   "cell_type": "code",
   "execution_count": 46,
   "metadata": {},
   "outputs": [
    {
     "name": "stdout",
     "output_type": "stream",
     "text": [
      "An error occurred during data insertion: (psycopg2.errors.ForeignKeyViolation) insert or update on table \"asset_ledger\" violates foreign key constraint \"asset_ledger_ticker_fkey\"\n",
      "DETAIL:  Key (ticker)=(PLTR) is not present in table \"russel_3000\".\n",
      "\n",
      "[SQL: INSERT INTO asset_ledger (ticker, asset_name, quantity, price, transaction_amount, commission, fees, portfolio_name, transaction_date, notes) VALUES (%(ticker__0)s, %(asset_name__0)s, %(quantity__0)s, %(price__0)s, %(transaction_amount__0)s, %(commis ... 4053 characters truncated ... , %(commission__21)s, %(fees__21)s, %(portfolio_name__21)s, %(transaction_date__21)s, %(notes__21)s)]\n",
      "[parameters: {'price__0': 18.38, 'quantity__0': 21.0, 'transaction_amount__0': -385.93, 'commission__0': 0.0, 'transaction_date__0': '2021-12-14', 'ticker__0': 'PLTR', 'fees__0': 0.0, 'asset_name__0': 'PALANTIR TECHNOLOGIES INC CL A', 'portfolio_name__0': 'HSA 226909708', 'notes__0': 'YOU BOUGHT PALANTIR TECHNOLOGIES INC CL A (PLTR) (Cash)', 'price__1': 20.33, 'quantity__1': 5.0, 'transaction_amount__1': -101.64, 'commission__1': 0.0, 'transaction_date__1': '2021-12-14', 'ticker__1': 'CRSR', 'fees__1': 0.0, 'asset_name__1': 'CORSAIR GAMING INC COM', 'portfolio_name__1': 'HSA 226909708', 'notes__1': 'YOU BOUGHT CORSAIR GAMING INC COM (CRSR) (Cash)', 'price__2': 19.68, 'quantity__2': 21.0, 'transaction_amount__2': -413.28, 'commission__2': 0.0, 'transaction_date__2': '2021-12-14', 'ticker__2': 'CHPT', 'fees__2': 0.0, 'asset_name__2': 'CHARGEPOINT HOLDINGS INC COM CL A', 'portfolio_name__2': 'HSA 226909708', 'notes__2': 'YOU BOUGHT CHARGEPOINT HOLDINGS INC COM CL A (CHPT) (Cash)', 'price__3': 2.73, 'quantity__3': 1.0, 'transaction_amount__3': -2.73, 'commission__3': 0.0, 'transaction_date__3': '2021-12-03', 'ticker__3': 'SDCCQ', 'fees__3': 0.0, 'asset_name__3': 'SMILEDIRECTCLUB INC CL A COM', 'portfolio_name__3': 'HSA 226909708', 'notes__3': 'YOU BOUGHT SMILEDIRECTCLUB INC CL A COM (SDCCQ) (Cash)', 'price__4': 4.08, 'quantity__4': 3.0, 'transaction_amount__4': -12.23, 'commission__4': 0.0, 'transaction_date__4': '2021-11-09', 'ticker__4': 'SDCCQ', 'fees__4': 0.0, 'asset_name__4': 'SMILEDIRECTCLUB INC CL A COM', 'portfolio_name__4': 'HSA 226909708', 'notes__4': 'YOU BOUGHT SMILEDIRECTCLUB INC CL A COM (SDCCQ) (Cash)' ... 120 parameters truncated ... 'price__17': 24.0, 'quantity__17': -0.01, 'transaction_amount__17': 0.24, 'commission__17': 0.0, 'transaction_date__17': '2021-03-09', 'ticker__17': 'PLTR', 'fees__17': 0.0, 'asset_name__17': 'PALANTIR TECHNOLOGIES INC CL A', 'portfolio_name__17': 'HSA 226909708', 'notes__17': 'YOU SOLD PALANTIR TECHNOLOGIES INC CL A (PLTR) (Cash)', 'price__18': 24.0, 'quantity__18': -0.07, 'transaction_amount__18': 1.68, 'commission__18': 0.0, 'transaction_date__18': '2021-03-09', 'ticker__18': 'PLTR', 'fees__18': 0.0, 'asset_name__18': 'PALANTIR TECHNOLOGIES INC CL A', 'portfolio_name__18': 'HSA 226909708', 'notes__18': 'YOU SOLD PALANTIR TECHNOLOGIES INC CL A (PLTR) (Cash)', 'price__19': 24.0, 'quantity__19': -16.0, 'transaction_amount__19': 383.99, 'commission__19': 0.0, 'transaction_date__19': '2021-03-09', 'ticker__19': 'PLTR', 'fees__19': 0.01, 'asset_name__19': 'PALANTIR TECHNOLOGIES INC CL A', 'portfolio_name__19': 'HSA 226909708', 'notes__19': 'YOU SOLD PALANTIR TECHNOLOGIES INC CL A (PLTR) (Cash)', 'price__20': 24.88, 'quantity__20': 16.0, 'transaction_amount__20': -398.0, 'commission__20': 0.0, 'transaction_date__20': '2021-03-02', 'ticker__20': 'PLTR', 'fees__20': 0.0, 'asset_name__20': 'PALANTIR TECHNOLOGIES INC CL A', 'portfolio_name__20': 'HSA 226909708', 'notes__20': 'YOU BOUGHT PALANTIR TECHNOLOGIES INC CL A (PLTR) (Cash)', 'price__21': 24.88, 'quantity__21': 0.08, 'transaction_amount__21': -1.99, 'commission__21': 0.0, 'transaction_date__21': '2021-03-02', 'ticker__21': 'PLTR', 'fees__21': 0.0, 'asset_name__21': 'PALANTIR TECHNOLOGIES INC CL A', 'portfolio_name__21': 'HSA 226909708', 'notes__21': 'YOU BOUGHT PALANTIR TECHNOLOGIES INC CL A (PLTR) (Cash)'}]\n",
      "(Background on this error at: https://sqlalche.me/e/20/gkpj)\n"
     ]
    }
   ],
   "source": [
    "# Step 9: Insert Data into PostgreSQL\n",
    "import pandas as pd\n",
    "import psycopg2\n",
    "from sqlalchemy import create_engine\n",
    "from dotenv import load_dotenv\n",
    "import os\n",
    "\n",
    "# Step 9a: Load environment variables from .env file\n",
    "load_dotenv('../server_credentials.env')\n",
    "\n",
    "# Step 9b: Set up database connection using environment variables\n",
    "db_user = os.getenv('DB_USER')\n",
    "db_password = os.getenv('DB_PASSWORD')\n",
    "db_host = os.getenv('DB_HOST')\n",
    "db_port = os.getenv('DB_PORT')\n",
    "db_name = os.getenv('DB_NAME')\n",
    "\n",
    "# Create SQLAlchemy engine for database connection\n",
    "engine = create_engine(f'postgresql://{db_user}:{db_password}@{db_host}:{db_port}/{db_name}')\n",
    "\n",
    "# Step 9c: Insert data into the database\n",
    "try:\n",
    "    with engine.connect() as connection:\n",
    "        data.to_sql('asset_ledger', con=connection, if_exists='append', index=False)\n",
    "    # Step 9d: Confirm successful insertion\n",
    "    print(\"Data successfully inserted into the database.\")\n",
    "except Exception as e:\n",
    "    # Step 9d: Handle errors during insertion\n",
    "    print(f\"An error occurred during data insertion: {e}\")\n"
   ]
  }
 ],
 "metadata": {
  "kernelspec": {
   "display_name": "base",
   "language": "python",
   "name": "python3"
  },
  "language_info": {
   "codemirror_mode": {
    "name": "ipython",
    "version": 3
   },
   "file_extension": ".py",
   "mimetype": "text/x-python",
   "name": "python",
   "nbconvert_exporter": "python",
   "pygments_lexer": "ipython3",
   "version": "3.12.4"
  }
 },
 "nbformat": 4,
 "nbformat_minor": 2
}
