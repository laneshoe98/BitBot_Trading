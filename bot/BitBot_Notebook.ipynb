{
 "cells": [
  {
   "cell_type": "code",
   "execution_count": 1,
   "id": "268ac347",
   "metadata": {},
   "outputs": [
    {
     "name": "stdout",
     "output_type": "stream",
     "text": [
      "Setup complete. Ready to collect data for BitBot!\n"
     ]
    }
   ],
   "source": [
    "\n",
    "# ========== SETTINGS ==========\n",
    "# Configuration settings for debugging and data update behavior\n",
    "SETTINGS = {\n",
    "    \"DEBUG\": True,                  # If True, print debug statements; if False, suppress debug output\n",
    "    \"DATA_SOURCE\": \"yfinance\",      # Source of historical data (yfinance or other API)\n",
    "    \"SAVE_FORMAT\": \"json\",          # Format to save the collected data\n",
    "}\n",
    "\n",
    "import pandas as pd\n",
    "import json\n",
    "import yfinance as yf\n",
    "import os\n",
    "from datetime import datetime\n",
    "\n",
    "# Paths for saving data\n",
    "output_dir = '1_data/collected/'   # Directory to save collected data\n",
    "os.makedirs(output_dir, exist_ok=True)\n",
    "\n",
    "print(\"Setup complete. Ready to collect data for BitBot!\")\n"
   ]
  },
  {
   "cell_type": "code",
   "execution_count": 2,
   "id": "67024b58",
   "metadata": {},
   "outputs": [],
   "source": [
    "\n",
    "# ========== DATA COLLECTION FUNCTION ==========\n",
    "# This function collects historical Bitcoin data for multiple default timeframes,\n",
    "# starting from the earliest available date. It saves data month-by-month, allowing for review at year-end.\n",
    "\n",
    "from tqdm import tqdm\n",
    "import time\n",
    "\n",
    "def collect_bitcoin_data(output_dir):\n",
    "    # Initialize ticker symbol and default timeframes\n",
    "    ticker = \"BTC-USD\"  # Bitcoin ticker symbol for Yahoo Finance\n",
    "    timeframes = [\"1m\", \"15m\", \"1h\", \"1d\", \"1mo\"]  # Default timeframes\n",
    "    collected_data = {}  # Dictionary to store data for each year\n",
    "\n",
    "    # Get the first traded date for Bitcoin from Yahoo Finance\n",
    "    ticker_info = yf.Ticker(ticker)\n",
    "    hist_data = ticker_info.history(period=\"max\", interval=\"1mo\")\n",
    "    first_date = hist_data.index[0].strftime('%Y-%m-%d')\n",
    "    start_year = int(first_date[:4])\n",
    "\n",
    "    current_year = datetime.now().year\n",
    "\n",
    "    # Loop over each year from the start date to the current year\n",
    "    for year in range(start_year, current_year + 1):\n",
    "        yearly_data = {tf: [] for tf in timeframes}  # Data for the current year\n",
    "\n",
    "        print(f\"Collecting data for year {year}...\")\n",
    "        for month in range(1, 13):  # Loop over each month\n",
    "            month_str = f\"{year}-{month:02d}-01\"\n",
    "            for tf in timeframes:  # Loop over each timeframe\n",
    "                try:\n",
    "                    # Fetch one month's worth of data for each timeframe\n",
    "                    data = yf.download(ticker, start=month_str, end=f\"{year}-{month+1:02d}-01\", interval=tf)\n",
    "                    data.reset_index(inplace=True)\n",
    "                    \n",
    "                    # Store each month's data within the year\n",
    "                    if not data.empty:\n",
    "                        monthly_json = data.to_json(orient=\"records\", date_format=\"iso\")\n",
    "                        yearly_data[tf].append(monthly_json)\n",
    "\n",
    "                        # Display progress every month\n",
    "                        print(f\"Collected {tf} data for {year}-{month:02d} with {len(data)} rows\")\n",
    "\n",
    "                except Exception as e:\n",
    "                    print(f\"Error collecting {tf} data for {year}-{month:02d}: {e}\")\n",
    "                    return\n",
    "\n",
    "            # Save month-by-month JSON\n",
    "            json_filename = os.path.join(output_dir, f\"bitcoin_data_{year}.json\")\n",
    "            with open(json_filename, 'w') as f:\n",
    "                json.dump(yearly_data, f)\n",
    "            print(f\"[DEBUG] Saved monthly data for {year}-{month:02d}\")\n",
    "\n",
    "        # Save at year-end and provide data review\n",
    "        json_filename = os.path.join(output_dir, f\"bitcoin_data_{year}.json\")\n",
    "        with open(json_filename, 'w') as f:\n",
    "            json.dump(yearly_data, f)\n",
    "\n",
    "        print(f\"[DEBUG] Yearly data for {year} saved successfully.\")\n",
    "        \n",
    "        # Prompt for review at end of year\n",
    "        print(f\"Please review the data for {year} before proceeding.\")\n",
    "        input(\"If everything looks good, press Enter to continue, or press Ctrl+C to abort and review.\")\n",
    "    \n",
    "    return collected_data\n"
   ]
  },
  {
   "cell_type": "code",
   "execution_count": null,
   "id": "f13e1b0c",
   "metadata": {},
   "outputs": [],
   "source": [
    "# ========== ITERATIVE TROUBLESHOOTING CELL ==========\n",
    "# This cell helps improve any selected notebook cell iteratively, based on ChatGPT's API suggestions.\n",
    "# It saves iterative improvements to a separate notebook file, preserving the original.\n",
    "\n",
    "# Import the troubleshooter module\n",
    "from troubleshooter import troubleshoot_cell\n",
    "\n",
    "# Specify which cell you want to troubleshoot (set the index here)\n",
    "cell_index_to_troubleshoot = 2  # Example: set to the cell you want to improve\n",
    "\n",
    "# Call the troubleshooting function to start the interactive process\n",
    "troubleshoot_cell(cell_index_to_troubleshoot)"
   ]
  },
  {
   "cell_type": "code",
   "execution_count": null,
   "id": "ecba734a",
   "metadata": {},
   "outputs": [],
   "source": [
    "\n",
    "# ========== EXECUTE DATA COLLECTION ==========\n",
    "# Run the data collection and save results\n",
    "collected_data = collect_bitcoin_data(output_dir)\n",
    "print(\"Data collection complete.\")\n"
   ]
  }
 ],
 "metadata": {
  "kernelspec": {
   "display_name": "base",
   "language": "python",
   "name": "python3"
  },
  "language_info": {
   "codemirror_mode": {
    "name": "ipython",
    "version": 3
   },
   "file_extension": ".py",
   "mimetype": "text/x-python",
   "name": "python",
   "nbconvert_exporter": "python",
   "pygments_lexer": "ipython3",
   "version": "3.12.4"
  }
 },
 "nbformat": 4,
 "nbformat_minor": 5
}
