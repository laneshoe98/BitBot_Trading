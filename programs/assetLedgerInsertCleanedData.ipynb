{
 "cells": [
  {
   "cell_type": "code",
   "execution_count": 1,
   "metadata": {},
   "outputs": [],
   "source": [
    "# Step 1: Import Required Libraries\n",
    "# Purpose: Load essential libraries, including pandas for data handling, SQLAlchemy for database connection, and dotenv for environment variables.\n",
    "\n",
    "import pandas as pd\n",
    "import os\n",
    "from sqlalchemy import create_engine\n",
    "from dotenv import load_dotenv\n"
   ]
  },
  {
   "cell_type": "code",
   "execution_count": 2,
   "metadata": {},
   "outputs": [],
   "source": [
    "# Step 2: Load Environment Variables\n",
    "# Purpose: Access database credentials securely from an environment file.\n",
    "\n",
    "# Specify the exact path to your server_credentials.env file\n",
    "load_dotenv(r'C:\\Users\\Lane\\Documents\\Projects\\trading_bot\\programs\\server_credentials.env')\n",
    "\n",
    "# Retrieve database credentials from environment variables\n",
    "db_user = os.getenv('DB_USER')\n",
    "db_password = os.getenv('DB_PASSWORD')\n",
    "db_host = os.getenv('DB_HOST')\n",
    "db_port = os.getenv('DB_PORT')\n",
    "db_name = os.getenv('DB_NAME')\n"
   ]
  },
  {
   "cell_type": "code",
   "execution_count": 3,
   "metadata": {},
   "outputs": [],
   "source": [
    "# Step 3: Set Up Database Connection\n",
    "# Purpose: Use SQLAlchemy to establish a connection to the PostgreSQL database.\n",
    "\n",
    "engine = create_engine(f'postgresql://{db_user}:{db_password}@{db_host}:{db_port}/{db_name}')\n"
   ]
  },
  {
   "cell_type": "code",
   "execution_count": 4,
   "metadata": {},
   "outputs": [],
   "source": [
    "# Step 4: Define the File Paths\n",
    "# Purpose: List the paths to each yearly cleaned CSV file for processing.\n",
    "\n",
    "file_paths = [\n",
    "    r'C:\\Users\\Lane\\Documents\\Projects\\trading_bot\\data\\Accounts_History_2021_cleaned.csv',\n",
    "    r'C:\\Users\\Lane\\Documents\\Projects\\trading_bot\\data\\Accounts_History_2022_cleaned.csv',\n",
    "    r'C:\\Users\\Lane\\Documents\\Projects\\trading_bot\\data\\Accounts_History_2023_cleaned.csv',\n",
    "    r'C:\\Users\\Lane\\Documents\\Projects\\trading_bot\\data\\Accounts_History_2024_cleaned.csv'\n",
    "]\n"
   ]
  },
  {
   "cell_type": "code",
   "execution_count": 5,
   "metadata": {},
   "outputs": [
    {
     "name": "stdout",
     "output_type": "stream",
     "text": [
      "Data loaded from C:\\Users\\Lane\\Documents\\Projects\\trading_bot\\data\\Accounts_History_2021_cleaned.csv.\n",
      "An error occurred during data insertion for C:\\Users\\Lane\\Documents\\Projects\\trading_bot\\data\\Accounts_History_2021_cleaned.csv: (psycopg2.errors.ForeignKeyViolation) insert or update on table \"asset_ledger\" violates foreign key constraint \"asset_ledger_ticker_fkey\"\n",
      "DETAIL:  Key (ticker)=(SDCCQ) is not present in table \"tracked_companies\".\n",
      "\n",
      "[SQL: INSERT INTO asset_ledger (ticker, asset_name, quantity, price, transaction_amount, commission, fees, portfolio_name, transaction_date, notes) VALUES (%(ticker__0)s, %(asset_name__0)s, %(quantity__0)s, %(price__0)s, %(transaction_amount__0)s, %(commis ... 4053 characters truncated ... , %(commission__21)s, %(fees__21)s, %(portfolio_name__21)s, %(transaction_date__21)s, %(notes__21)s)]\n",
      "[parameters: {'price__0': 18.38, 'commission__0': 0.0, 'portfolio_name__0': 'HSA 226909708', 'asset_name__0': 'PALANTIR TECHNOLOGIES INC CL A', 'transaction_date__0': '2021-12-14', 'quantity__0': 21.0, 'transaction_amount__0': -385.93, 'notes__0': 'YOU BOUGHT PALANTIR TECHNOLOGIES INC CL A (PLTR) (Cash)', 'fees__0': 0.0, 'ticker__0': 'PLTR', 'price__1': 20.33, 'commission__1': 0.0, 'portfolio_name__1': 'HSA 226909708', 'asset_name__1': 'CORSAIR GAMING INC COM', 'transaction_date__1': '2021-12-14', 'quantity__1': 5.0, 'transaction_amount__1': -101.64, 'notes__1': 'YOU BOUGHT CORSAIR GAMING INC COM (CRSR) (Cash)', 'fees__1': 0.0, 'ticker__1': 'CRSR', 'price__2': 19.68, 'commission__2': 0.0, 'portfolio_name__2': 'HSA 226909708', 'asset_name__2': 'CHARGEPOINT HOLDINGS INC COM CL A', 'transaction_date__2': '2021-12-14', 'quantity__2': 21.0, 'transaction_amount__2': -413.28, 'notes__2': 'YOU BOUGHT CHARGEPOINT HOLDINGS INC COM CL A (CHPT) (Cash)', 'fees__2': 0.0, 'ticker__2': 'CHPT', 'price__3': 2.73, 'commission__3': 0.0, 'portfolio_name__3': 'HSA 226909708', 'asset_name__3': 'SMILEDIRECTCLUB INC CL A COM', 'transaction_date__3': '2021-12-03', 'quantity__3': 1.0, 'transaction_amount__3': -2.73, 'notes__3': 'YOU BOUGHT SMILEDIRECTCLUB INC CL A COM (SDCCQ) (Cash)', 'fees__3': 0.0, 'ticker__3': 'SDCCQ', 'price__4': 4.08, 'commission__4': 0.0, 'portfolio_name__4': 'HSA 226909708', 'asset_name__4': 'SMILEDIRECTCLUB INC CL A COM', 'transaction_date__4': '2021-11-09', 'quantity__4': 3.0, 'transaction_amount__4': -12.23, 'notes__4': 'YOU BOUGHT SMILEDIRECTCLUB INC CL A COM (SDCCQ) (Cash)', 'fees__4': 0.0, 'ticker__4': 'SDCCQ' ... 120 parameters truncated ... 'price__17': 24.0, 'commission__17': 0.0, 'portfolio_name__17': 'HSA 226909708', 'asset_name__17': 'PALANTIR TECHNOLOGIES INC CL A', 'transaction_date__17': '2021-03-09', 'quantity__17': -0.01, 'transaction_amount__17': 0.24, 'notes__17': 'YOU SOLD PALANTIR TECHNOLOGIES INC CL A (PLTR) (Cash)', 'fees__17': 0.0, 'ticker__17': 'PLTR', 'price__18': 24.0, 'commission__18': 0.0, 'portfolio_name__18': 'HSA 226909708', 'asset_name__18': 'PALANTIR TECHNOLOGIES INC CL A', 'transaction_date__18': '2021-03-09', 'quantity__18': -0.07, 'transaction_amount__18': 1.68, 'notes__18': 'YOU SOLD PALANTIR TECHNOLOGIES INC CL A (PLTR) (Cash)', 'fees__18': 0.0, 'ticker__18': 'PLTR', 'price__19': 24.0, 'commission__19': 0.0, 'portfolio_name__19': 'HSA 226909708', 'asset_name__19': 'PALANTIR TECHNOLOGIES INC CL A', 'transaction_date__19': '2021-03-09', 'quantity__19': -16.0, 'transaction_amount__19': 383.99, 'notes__19': 'YOU SOLD PALANTIR TECHNOLOGIES INC CL A (PLTR) (Cash)', 'fees__19': 0.01, 'ticker__19': 'PLTR', 'price__20': 24.88, 'commission__20': 0.0, 'portfolio_name__20': 'HSA 226909708', 'asset_name__20': 'PALANTIR TECHNOLOGIES INC CL A', 'transaction_date__20': '2021-03-02', 'quantity__20': 16.0, 'transaction_amount__20': -398.0, 'notes__20': 'YOU BOUGHT PALANTIR TECHNOLOGIES INC CL A (PLTR) (Cash)', 'fees__20': 0.0, 'ticker__20': 'PLTR', 'price__21': 24.88, 'commission__21': 0.0, 'portfolio_name__21': 'HSA 226909708', 'asset_name__21': 'PALANTIR TECHNOLOGIES INC CL A', 'transaction_date__21': '2021-03-02', 'quantity__21': 0.08, 'transaction_amount__21': -1.99, 'notes__21': 'YOU BOUGHT PALANTIR TECHNOLOGIES INC CL A (PLTR) (Cash)', 'fees__21': 0.0, 'ticker__21': 'PLTR'}]\n",
      "(Background on this error at: https://sqlalche.me/e/20/gkpj)\n",
      "Data loaded from C:\\Users\\Lane\\Documents\\Projects\\trading_bot\\data\\Accounts_History_2022_cleaned.csv.\n",
      "An error occurred during data insertion for C:\\Users\\Lane\\Documents\\Projects\\trading_bot\\data\\Accounts_History_2022_cleaned.csv: (psycopg2.errors.ForeignKeyViolation) insert or update on table \"asset_ledger\" violates foreign key constraint \"asset_ledger_ticker_fkey\"\n",
      "DETAIL:  Key (ticker)=(OTLY) is not present in table \"tracked_companies\".\n",
      "\n",
      "[SQL: INSERT INTO asset_ledger (ticker, asset_name, quantity, price, transaction_amount, commission, fees, portfolio_name, transaction_date, notes) VALUES (%(ticker__0)s, %(asset_name__0)s, %(quantity__0)s, %(price__0)s, %(transaction_amount__0)s, %(commis ... 21577 characters truncated ... ommission__109)s, %(fees__109)s, %(portfolio_name__109)s, %(transaction_date__109)s, %(notes__109)s)]\n",
      "[parameters: {'price__0': 68.96, 'commission__0': 0.0, 'portfolio_name__0': 'Macro Thesis Z24315712', 'asset_name__0': 'PAYPAL HLDGS INC COM', 'transaction_date__0': '2022-12-27', 'quantity__0': 1.0, 'transaction_amount__0': -68.96, 'notes__0': 'YOU BOUGHT PAYPAL HLDGS INC COM (PYPL) (Cash)', 'fees__0': 0.0, 'ticker__0': 'PYPL', 'price__1': 68.96, 'commission__1': 0.0, 'portfolio_name__1': 'Macro Thesis Z24315712', 'asset_name__1': 'PAYPAL HLDGS INC COM', 'transaction_date__1': '2022-12-27', 'quantity__1': 0.5, 'transaction_amount__1': -34.48, 'notes__1': 'YOU BOUGHT PAYPAL HLDGS INC COM (PYPL) (Cash)', 'fees__1': 0.0, 'ticker__1': 'PYPL', 'price__2': 116.71, 'commission__2': 0.0, 'portfolio_name__2': 'Macro Thesis Z24315712', 'asset_name__2': 'FIDELITY BLUE CHIP GROWTH', 'transaction_date__2': '2022-12-15', 'quantity__2': 0.678, 'transaction_amount__2': -79.16, 'notes__2': 'YOU BOUGHT PROSPECTUS UNDER SEPARATE COVER FIDELITY BLUE CHIP GROWTH (FBGRX) (Cash)', 'fees__2': 0.0, 'ticker__2': 'FBGRX', 'price__3': 91.69, 'commission__3': 0.0, 'portfolio_name__3': 'Macro Thesis Z24315712', 'asset_name__3': 'DISNEY WALT CO COM', 'transaction_date__3': '2022-12-15', 'quantity__3': 0.5, 'transaction_amount__3': -45.84, 'notes__3': 'YOU BOUGHT DISNEY WALT CO COM (DIS) (Cash)', 'fees__3': 0.0, 'ticker__3': 'DIS', 'price__4': 118.68, 'commission__4': 0.0, 'portfolio_name__4': 'Macro Thesis Z24315712', 'asset_name__4': 'FIDELITY BLUE CHIP GROWTH', 'transaction_date__4': '2022-12-06', 'quantity__4': 0.172, 'transaction_amount__4': -20.4, 'notes__4': 'YOU BOUGHT PROSPECTUS UNDER SEPARATE COVER FIDELITY BLUE CHIP GROWTH (FBGRX) (Cash)', 'fees__4': 0.0, 'ticker__4': 'FBGRX' ... 1000 parameters truncated ... 'price__105': 14.21, 'commission__105': 0.0, 'portfolio_name__105': 'HSA 226909708', 'asset_name__105': 'PALANTIR TECHNOLOGIES INC CL A', 'transaction_date__105': '2022-01-21', 'quantity__105': 6.0, 'transaction_amount__105': -85.26, 'notes__105': 'YOU BOUGHT PALANTIR TECHNOLOGIES INC CL A (PLTR) (Cash)', 'fees__105': 0.0, 'ticker__105': 'PLTR', 'price__106': 13.76, 'commission__106': 0.0, 'portfolio_name__106': 'HSA 226909708', 'asset_name__106': 'PALANTIR TECHNOLOGIES INC CL A', 'transaction_date__106': '2022-01-21', 'quantity__106': 4.0, 'transaction_amount__106': -55.04, 'notes__106': 'YOU BOUGHT PALANTIR TECHNOLOGIES INC CL A (PLTR) (Cash)', 'fees__106': 0.0, 'ticker__106': 'PLTR', 'price__107': 14.01, 'commission__107': 0.0, 'portfolio_name__107': 'HSA 226909708', 'asset_name__107': 'CHARGEPOINT HOLDINGS INC COM CL A', 'transaction_date__107': '2022-01-21', 'quantity__107': 7.0, 'transaction_amount__107': -98.07, 'notes__107': 'YOU BOUGHT CHARGEPOINT HOLDINGS INC COM CL A (CHPT) (Cash)', 'fees__107': 0.0, 'ticker__107': 'CHPT', 'price__108': 13.46, 'commission__108': 0.0, 'portfolio_name__108': 'HSA 226909708', 'asset_name__108': 'CHARGEPOINT HOLDINGS INC COM CL A', 'transaction_date__108': '2022-01-21', 'quantity__108': 3.0, 'transaction_amount__108': -40.37, 'notes__108': 'YOU BOUGHT CHARGEPOINT HOLDINGS INC COM CL A (CHPT) (Cash)', 'fees__108': 0.0, 'ticker__108': 'CHPT', 'price__109': 13.46, 'commission__109': 0.0, 'portfolio_name__109': 'HSA 226909708', 'asset_name__109': 'CHARGEPOINT HOLDINGS INC COM CL A', 'transaction_date__109': '2022-01-21', 'quantity__109': 0.675, 'transaction_amount__109': -9.09, 'notes__109': 'YOU BOUGHT CHARGEPOINT HOLDINGS INC COM CL A (CHPT) (Cash)', 'fees__109': 0.0, 'ticker__109': 'CHPT'}]\n",
      "(Background on this error at: https://sqlalche.me/e/20/gkpj)\n",
      "Data loaded from C:\\Users\\Lane\\Documents\\Projects\\trading_bot\\data\\Accounts_History_2023_cleaned.csv.\n",
      "An error occurred during data insertion for C:\\Users\\Lane\\Documents\\Projects\\trading_bot\\data\\Accounts_History_2023_cleaned.csv: (psycopg2.errors.ForeignKeyViolation) insert or update on table \"asset_ledger\" violates foreign key constraint \"asset_ledger_ticker_fkey\"\n",
      "DETAIL:  Key (ticker)=(VWAGY) is not present in table \"tracked_companies\".\n",
      "\n",
      "[SQL: INSERT INTO asset_ledger (ticker, asset_name, quantity, price, transaction_amount, commission, fees, portfolio_name, transaction_date, notes) VALUES (%(ticker__0)s, %(asset_name__0)s, %(quantity__0)s, %(price__0)s, %(transaction_amount__0)s, %(commis ... 16923 characters truncated ... , %(commission__86)s, %(fees__86)s, %(portfolio_name__86)s, %(transaction_date__86)s, %(notes__86)s)]\n",
      "[parameters: {'price__0': 435.2, 'commission__0': 0.0, 'portfolio_name__0': 'HSA 226909708', 'asset_name__0': 'SPDR S&P500 ETF TRUST TRUST UNIT DEPOSI', 'transaction_date__0': '2023-10-13', 'quantity__0': 1.0, 'transaction_amount__0': -435.2, 'notes__0': 'YOU BOUGHT SPDR S&P500 ETF TRUST TRUST UNIT DEP... (SPY) (Cash)', 'fees__0': 0.0, 'ticker__0': 'SPY', 'price__1': 435.2, 'commission__1': 0.0, 'portfolio_name__1': 'HSA 226909708', 'asset_name__1': 'SPDR S&P500 ETF TRUST TRUST UNIT DEPOSI', 'transaction_date__1': '2023-10-13', 'quantity__1': 0.278, 'transaction_amount__1': -120.99, 'notes__1': 'YOU BOUGHT SPDR S&P500 ETF TRUST TRUST UNIT DEP... (SPY) (Cash)', 'fees__1': 0.0, 'ticker__1': 'SPY', 'price__2': 14.25, 'commission__2': 0.0, 'portfolio_name__2': 'Macro Thesis Z24315712', 'asset_name__2': 'VOLKSWAGEN AG UNSPON ADS EACH REP 0.1 O', 'transaction_date__2': '2023-08-29', 'quantity__2': -30.0, 'transaction_amount__2': 427.35, 'notes__2': 'YOU SOLD VOLKSWAGEN AG UNSPON ADS EACH REP 0.... (VWAGY) (Cash)', 'fees__2': 0.0, 'ticker__2': 'VWAGY', 'price__3': 446.43, 'commission__3': 0.0, 'portfolio_name__3': 'Macro Thesis Z24315712', 'asset_name__3': 'SPDR S&P500 ETF TRUST TRUST UNIT DEPOSI', 'transaction_date__3': '2023-08-29', 'quantity__3': -0.054, 'transaction_amount__3': 24.11, 'notes__3': 'YOU SOLD SPDR S&P500 ETF TRUST TRUST UNIT DEP... (SPY) (Cash)', 'fees__3': 0.0, 'ticker__3': 'SPY', 'price__4': 446.44, 'commission__4': 0.0, 'portfolio_name__4': 'Macro Thesis Z24315712', 'asset_name__4': 'SPDR S&P500 ETF TRUST TRUST UNIT DEPOSI', 'transaction_date__4': '2023-08-29', 'quantity__4': -2.0, 'transaction_amount__4': 892.87, 'notes__4': 'YOU SOLD SPDR S&P500 ETF TRUST TRUST UNIT DEP... (SPY) (Cash)', 'fees__4': 0.01, 'ticker__4': 'SPY' ... 770 parameters truncated ... 'price__82': 92.12, 'commission__82': 0.0, 'portfolio_name__82': 'Macro Thesis Z24315712', 'asset_name__82': 'CVS HEALTH CORPORATION COM USD0.01', 'transaction_date__82': '2023-01-09', 'quantity__82': 1.0, 'transaction_amount__82': -92.12, 'notes__82': 'YOU BOUGHT CVS HEALTH CORPORATION COM USD0.01 (CVS) (Cash)', 'fees__82': 0.0, 'ticker__82': 'CVS', 'price__83': 92.12, 'commission__83': 0.0, 'portfolio_name__83': 'Macro Thesis Z24315712', 'asset_name__83': 'CVS HEALTH CORPORATION COM USD0.01', 'transaction_date__83': '2023-01-09', 'quantity__83': 0.5, 'transaction_amount__83': -46.06, 'notes__83': 'YOU BOUGHT CVS HEALTH CORPORATION COM USD0.01 (CVS) (Cash)', 'fees__83': 0.0, 'ticker__83': 'CVS', 'price__84': 77.75, 'commission__84': 0.0, 'portfolio_name__84': 'Macro Thesis Z24315712', 'asset_name__84': 'PAYPAL HLDGS INC COM', 'transaction_date__84': '2023-01-04', 'quantity__84': 0.5, 'transaction_amount__84': -38.87, 'notes__84': 'YOU BOUGHT PAYPAL HLDGS INC COM (PYPL) (Cash)', 'fees__84': 0.0, 'ticker__84': 'PYPL', 'price__85': 112.49, 'commission__85': 0.0, 'portfolio_name__85': 'Macro Thesis Z24315712', 'asset_name__85': 'FIDELITY BLUE CHIP GROWTH', 'transaction_date__85': '2023-01-04', 'quantity__85': 0.16, 'transaction_amount__85': -18.01, 'notes__85': 'YOU BOUGHT PROSPECTUS UNDER SEPARATE COVER FIDELITY BLUE CHIP GROWTH (FBGRX) (Cash)', 'fees__85': 0.0, 'ticker__85': 'FBGRX', 'price__86': 92.19, 'commission__86': 0.0, 'portfolio_name__86': 'Macro Thesis Z24315712', 'asset_name__86': 'DISNEY WALT CO COM', 'transaction_date__86': '2023-01-04', 'quantity__86': 1.0, 'transaction_amount__86': -92.19, 'notes__86': 'YOU BOUGHT DISNEY WALT CO COM (DIS) (Cash)', 'fees__86': 0.0, 'ticker__86': 'DIS'}]\n",
      "(Background on this error at: https://sqlalche.me/e/20/gkpj)\n",
      "Data loaded from C:\\Users\\Lane\\Documents\\Projects\\trading_bot\\data\\Accounts_History_2024_cleaned.csv.\n",
      "Data from C:\\Users\\Lane\\Documents\\Projects\\trading_bot\\data\\Accounts_History_2024_cleaned.csv successfully inserted into the database.\n"
     ]
    }
   ],
   "source": [
    "# Step 5: Insert Each File into the Database\n",
    "# Purpose: Loop through each file, load it into a DataFrame, and insert it into the asset_ledger table.\n",
    "\n",
    "for file_path in file_paths:\n",
    "    try:\n",
    "        # Step 5a: Load the CSV file into a DataFrame\n",
    "        data = pd.read_csv(file_path)\n",
    "        print(f\"Data loaded from {file_path}.\")\n",
    "        \n",
    "        # Step 5b: Insert Data into Database\n",
    "        with engine.connect() as connection:\n",
    "            data.to_sql('asset_ledger', con=connection, if_exists='append', index=False)\n",
    "        \n",
    "        # Step 5c: Confirm successful insertion\n",
    "        print(f\"Data from {file_path} successfully inserted into the database.\")\n",
    "    \n",
    "    except Exception as e:\n",
    "        # Step 5d: Handle errors during insertion\n",
    "        print(f\"An error occurred during data insertion for {file_path}: {e}\")"
   ]
  }
 ],
 "metadata": {
  "kernelspec": {
   "display_name": "base",
   "language": "python",
   "name": "python3"
  },
  "language_info": {
   "codemirror_mode": {
    "name": "ipython",
    "version": 3
   },
   "file_extension": ".py",
   "mimetype": "text/x-python",
   "name": "python",
   "nbconvert_exporter": "python",
   "pygments_lexer": "ipython3",
   "version": "3.12.4"
  }
 },
 "nbformat": 4,
 "nbformat_minor": 2
}
