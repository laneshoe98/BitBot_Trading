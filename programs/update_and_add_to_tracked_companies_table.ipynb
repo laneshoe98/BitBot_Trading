{
 "cells": [
  {
   "cell_type": "code",
   "execution_count": 1,
   "metadata": {},
   "outputs": [],
   "source": [
    "import pandas as pd\n",
    "import json\n",
    "from sqlalchemy import create_engine, text\n",
    "from dotenv import load_dotenv\n",
    "import os\n",
    "\n",
    "# Load environment variables from .env file\n",
    "load_dotenv(r'C:\\Users\\Lane\\Documents\\Projects\\trading_bot\\programs\\server_credentials.env')\n",
    "\n",
    "# Database credentials from environment variables\n",
    "db_user = os.getenv('DB_USER')\n",
    "db_password = os.getenv('DB_PASSWORD')\n",
    "db_host = os.getenv('DB_HOST')\n",
    "db_port = os.getenv('DB_PORT')\n",
    "db_name = os.getenv('DB_NAME')\n",
    "\n",
    "# Create SQLAlchemy engine for PostgreSQL connection\n",
    "engine = create_engine(f'postgresql://{db_user}:{db_password}@{db_host}:{db_port}/{db_name}')\n",
    "\n",
    "# Load the CSV file as a DataFrame\n",
    "file_path = r'C:\\Users\\Lane\\Documents\\Projects\\trading_bot\\data\\master_data12.csv'  # Update with the actual path\n",
    "new_data = pd.read_csv(file_path)\n",
    "\n",
    "# Convert 'sector' and 'industry' columns to JSON arrays with one element\n",
    "new_data['sector'] = new_data['sector'].apply(lambda x: json.dumps([x]) if pd.notna(x) else json.dumps([]))\n",
    "new_data['industry'] = new_data['industry'].apply(lambda x: json.dumps([x]) if pd.notna(x) else json.dumps([]))\n",
    "\n",
    "# Load existing data from the tracked_companies table\n",
    "with engine.connect() as connection:\n",
    "    existing_data = pd.read_sql('SELECT symbol, asset_name, sector, industry, first_traded, index_inclusion FROM tracked_companies', connection)\n",
    "\n"
   ]
  },
  {
   "cell_type": "code",
   "execution_count": 2,
   "metadata": {},
   "outputs": [],
   "source": [
    "# Step 1: Identify new records that need to be inserted\n",
    "new_records = new_data[~new_data['symbol'].isin(existing_data['symbol'])]"
   ]
  },
  {
   "cell_type": "code",
   "execution_count": 3,
   "metadata": {},
   "outputs": [
    {
     "name": "stdout",
     "output_type": "stream",
     "text": [
      "New records successfully inserted into tracked_companies.\n"
     ]
    }
   ],
   "source": [
    "# Step 2: Insert new records\n",
    "try:\n",
    "    with engine.connect() as connection:\n",
    "        new_records.to_sql('tracked_companies', con=connection, if_exists='append', index=False)\n",
    "    print(\"New records successfully inserted into tracked_companies.\")\n",
    "except Exception as e:\n",
    "    print(f\"An error occurred during new record insertion: {e}\")"
   ]
  },
  {
   "cell_type": "code",
   "execution_count": 4,
   "metadata": {},
   "outputs": [],
   "source": [
    "# Step 3: Identify records in the database with NULL values in relevant fields\n",
    "with engine.connect() as connection:\n",
    "    incomplete_records = pd.read_sql(\n",
    "        \"\"\"\n",
    "        SELECT symbol, asset_name, sector, industry, first_traded, index_inclusion \n",
    "        FROM tracked_companies \n",
    "        WHERE asset_name IS NULL OR sector IS NULL OR industry IS NULL OR first_traded IS NULL OR index_inclusion IS NULL\n",
    "        \"\"\",\n",
    "        connection\n",
    "    )"
   ]
  },
  {
   "cell_type": "code",
   "execution_count": 6,
   "metadata": {},
   "outputs": [
    {
     "name": "stderr",
     "output_type": "stream",
     "text": [
      "C:\\Users\\Lane\\AppData\\Local\\Temp\\ipykernel_16780\\572457725.py:13: DeprecationWarning: The truth value of an empty array is ambiguous. Returning False, but in future this will result in an error. Use `array.size > 0` to check that an array is not empty.\n",
      "  if pd.isna(row[col]) or row[col] == '' or row[col] == '[]':\n"
     ]
    },
    {
     "name": "stdout",
     "output_type": "stream",
     "text": [
      "Updated CCJ with values: {'index_inclusion': '2016/12/01', 'symbol': 'CCJ'}\n",
      "Existing records updated where needed.\n"
     ]
    }
   ],
   "source": [
    "# Step 4: Update existing records' blank fields\n",
    "try:\n",
    "    with engine.connect() as connection:\n",
    "        for _, row in incomplete_records.iterrows():\n",
    "            symbol = row['symbol']\n",
    "            update_values = {}\n",
    "\n",
    "            # Retrieve the updated information from master_data for the current symbol\n",
    "            new_info = new_data[new_data['symbol'] == symbol]\n",
    "            if not new_info.empty:\n",
    "                # Check each field, and only add to update_values if the field in the server is null\n",
    "                for col in ['asset_name', 'sector', 'industry', 'first_traded', 'index_inclusion']:\n",
    "                    if pd.isna(row[col]) or row[col] == '' or row[col] == '[]':\n",
    "                        if pd.notna(new_info.iloc[0][col]) and new_info.iloc[0][col] != '':\n",
    "                            # Explicitly handle NaN and None values\n",
    "                            update_values[col] = new_info.iloc[0][col] if pd.notna(new_info.iloc[0][col]) else None\n",
    "\n",
    "                # If there are fields to update, execute the update statement\n",
    "                if update_values:\n",
    "                    update_values['symbol'] = symbol  # Include symbol for WHERE clause\n",
    "                    update_stmt = f\"\"\"\n",
    "                    UPDATE tracked_companies\n",
    "                    SET {', '.join([f\"{col} = :{col}\" for col in update_values.keys() if col != 'symbol'])}\n",
    "                    WHERE symbol = :symbol\n",
    "                    \"\"\"\n",
    "                    \n",
    "                    # Pass update_values as a single dictionary to avoid unexpected keyword issues\n",
    "                    connection.execute(text(update_stmt), update_values)\n",
    "                    print(f\"Updated {symbol} with values: {update_values}\")\n",
    "\n",
    "    print(\"Existing records updated where needed.\")\n",
    "except Exception as e:\n",
    "    print(f\"An error occurred during record updates: {e}\")"
   ]
  }
 ],
 "metadata": {
  "kernelspec": {
   "display_name": "base",
   "language": "python",
   "name": "python3"
  },
  "language_info": {
   "codemirror_mode": {
    "name": "ipython",
    "version": 3
   },
   "file_extension": ".py",
   "mimetype": "text/x-python",
   "name": "python",
   "nbconvert_exporter": "python",
   "pygments_lexer": "ipython3",
   "version": "3.12.4"
  }
 },
 "nbformat": 4,
 "nbformat_minor": 2
}
