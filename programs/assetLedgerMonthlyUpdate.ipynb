{
 "cells": [
  {
   "cell_type": "code",
   "execution_count": 1,
   "metadata": {},
   "outputs": [],
   "source": [
    "#Imports\n",
    "import pandas as pd\n",
    "import os"
   ]
  },
  {
   "cell_type": "code",
   "execution_count": 2,
   "metadata": {},
   "outputs": [
    {
     "ename": "FileNotFoundError",
     "evalue": "[Errno 2] No such file or directory: 'Accounts_History_2024.csv'",
     "output_type": "error",
     "traceback": [
      "\u001b[1;31m---------------------------------------------------------------------------\u001b[0m",
      "\u001b[1;31mFileNotFoundError\u001b[0m                         Traceback (most recent call last)",
      "Cell \u001b[1;32mIn[2], line 3\u001b[0m\n\u001b[0;32m      1\u001b[0m \u001b[38;5;66;03m# Load the CSV data\u001b[39;00m\n\u001b[0;32m      2\u001b[0m file_path \u001b[38;5;241m=\u001b[39m \u001b[38;5;124m'\u001b[39m\u001b[38;5;124mAccounts_History_2024.csv\u001b[39m\u001b[38;5;124m'\u001b[39m  \u001b[38;5;66;03m# Update this path as needed\u001b[39;00m\n\u001b[1;32m----> 3\u001b[0m data \u001b[38;5;241m=\u001b[39m pd\u001b[38;5;241m.\u001b[39mread_csv(file_path)\n",
      "File \u001b[1;32mc:\\Users\\Lane\\anaconda3\\Lib\\site-packages\\pandas\\io\\parsers\\readers.py:1026\u001b[0m, in \u001b[0;36mread_csv\u001b[1;34m(filepath_or_buffer, sep, delimiter, header, names, index_col, usecols, dtype, engine, converters, true_values, false_values, skipinitialspace, skiprows, skipfooter, nrows, na_values, keep_default_na, na_filter, verbose, skip_blank_lines, parse_dates, infer_datetime_format, keep_date_col, date_parser, date_format, dayfirst, cache_dates, iterator, chunksize, compression, thousands, decimal, lineterminator, quotechar, quoting, doublequote, escapechar, comment, encoding, encoding_errors, dialect, on_bad_lines, delim_whitespace, low_memory, memory_map, float_precision, storage_options, dtype_backend)\u001b[0m\n\u001b[0;32m   1013\u001b[0m kwds_defaults \u001b[38;5;241m=\u001b[39m _refine_defaults_read(\n\u001b[0;32m   1014\u001b[0m     dialect,\n\u001b[0;32m   1015\u001b[0m     delimiter,\n\u001b[1;32m   (...)\u001b[0m\n\u001b[0;32m   1022\u001b[0m     dtype_backend\u001b[38;5;241m=\u001b[39mdtype_backend,\n\u001b[0;32m   1023\u001b[0m )\n\u001b[0;32m   1024\u001b[0m kwds\u001b[38;5;241m.\u001b[39mupdate(kwds_defaults)\n\u001b[1;32m-> 1026\u001b[0m \u001b[38;5;28;01mreturn\u001b[39;00m _read(filepath_or_buffer, kwds)\n",
      "File \u001b[1;32mc:\\Users\\Lane\\anaconda3\\Lib\\site-packages\\pandas\\io\\parsers\\readers.py:620\u001b[0m, in \u001b[0;36m_read\u001b[1;34m(filepath_or_buffer, kwds)\u001b[0m\n\u001b[0;32m    617\u001b[0m _validate_names(kwds\u001b[38;5;241m.\u001b[39mget(\u001b[38;5;124m\"\u001b[39m\u001b[38;5;124mnames\u001b[39m\u001b[38;5;124m\"\u001b[39m, \u001b[38;5;28;01mNone\u001b[39;00m))\n\u001b[0;32m    619\u001b[0m \u001b[38;5;66;03m# Create the parser.\u001b[39;00m\n\u001b[1;32m--> 620\u001b[0m parser \u001b[38;5;241m=\u001b[39m TextFileReader(filepath_or_buffer, \u001b[38;5;241m*\u001b[39m\u001b[38;5;241m*\u001b[39mkwds)\n\u001b[0;32m    622\u001b[0m \u001b[38;5;28;01mif\u001b[39;00m chunksize \u001b[38;5;129;01mor\u001b[39;00m iterator:\n\u001b[0;32m    623\u001b[0m     \u001b[38;5;28;01mreturn\u001b[39;00m parser\n",
      "File \u001b[1;32mc:\\Users\\Lane\\anaconda3\\Lib\\site-packages\\pandas\\io\\parsers\\readers.py:1620\u001b[0m, in \u001b[0;36mTextFileReader.__init__\u001b[1;34m(self, f, engine, **kwds)\u001b[0m\n\u001b[0;32m   1617\u001b[0m     \u001b[38;5;28mself\u001b[39m\u001b[38;5;241m.\u001b[39moptions[\u001b[38;5;124m\"\u001b[39m\u001b[38;5;124mhas_index_names\u001b[39m\u001b[38;5;124m\"\u001b[39m] \u001b[38;5;241m=\u001b[39m kwds[\u001b[38;5;124m\"\u001b[39m\u001b[38;5;124mhas_index_names\u001b[39m\u001b[38;5;124m\"\u001b[39m]\n\u001b[0;32m   1619\u001b[0m \u001b[38;5;28mself\u001b[39m\u001b[38;5;241m.\u001b[39mhandles: IOHandles \u001b[38;5;241m|\u001b[39m \u001b[38;5;28;01mNone\u001b[39;00m \u001b[38;5;241m=\u001b[39m \u001b[38;5;28;01mNone\u001b[39;00m\n\u001b[1;32m-> 1620\u001b[0m \u001b[38;5;28mself\u001b[39m\u001b[38;5;241m.\u001b[39m_engine \u001b[38;5;241m=\u001b[39m \u001b[38;5;28mself\u001b[39m\u001b[38;5;241m.\u001b[39m_make_engine(f, \u001b[38;5;28mself\u001b[39m\u001b[38;5;241m.\u001b[39mengine)\n",
      "File \u001b[1;32mc:\\Users\\Lane\\anaconda3\\Lib\\site-packages\\pandas\\io\\parsers\\readers.py:1880\u001b[0m, in \u001b[0;36mTextFileReader._make_engine\u001b[1;34m(self, f, engine)\u001b[0m\n\u001b[0;32m   1878\u001b[0m     \u001b[38;5;28;01mif\u001b[39;00m \u001b[38;5;124m\"\u001b[39m\u001b[38;5;124mb\u001b[39m\u001b[38;5;124m\"\u001b[39m \u001b[38;5;129;01mnot\u001b[39;00m \u001b[38;5;129;01min\u001b[39;00m mode:\n\u001b[0;32m   1879\u001b[0m         mode \u001b[38;5;241m+\u001b[39m\u001b[38;5;241m=\u001b[39m \u001b[38;5;124m\"\u001b[39m\u001b[38;5;124mb\u001b[39m\u001b[38;5;124m\"\u001b[39m\n\u001b[1;32m-> 1880\u001b[0m \u001b[38;5;28mself\u001b[39m\u001b[38;5;241m.\u001b[39mhandles \u001b[38;5;241m=\u001b[39m get_handle(\n\u001b[0;32m   1881\u001b[0m     f,\n\u001b[0;32m   1882\u001b[0m     mode,\n\u001b[0;32m   1883\u001b[0m     encoding\u001b[38;5;241m=\u001b[39m\u001b[38;5;28mself\u001b[39m\u001b[38;5;241m.\u001b[39moptions\u001b[38;5;241m.\u001b[39mget(\u001b[38;5;124m\"\u001b[39m\u001b[38;5;124mencoding\u001b[39m\u001b[38;5;124m\"\u001b[39m, \u001b[38;5;28;01mNone\u001b[39;00m),\n\u001b[0;32m   1884\u001b[0m     compression\u001b[38;5;241m=\u001b[39m\u001b[38;5;28mself\u001b[39m\u001b[38;5;241m.\u001b[39moptions\u001b[38;5;241m.\u001b[39mget(\u001b[38;5;124m\"\u001b[39m\u001b[38;5;124mcompression\u001b[39m\u001b[38;5;124m\"\u001b[39m, \u001b[38;5;28;01mNone\u001b[39;00m),\n\u001b[0;32m   1885\u001b[0m     memory_map\u001b[38;5;241m=\u001b[39m\u001b[38;5;28mself\u001b[39m\u001b[38;5;241m.\u001b[39moptions\u001b[38;5;241m.\u001b[39mget(\u001b[38;5;124m\"\u001b[39m\u001b[38;5;124mmemory_map\u001b[39m\u001b[38;5;124m\"\u001b[39m, \u001b[38;5;28;01mFalse\u001b[39;00m),\n\u001b[0;32m   1886\u001b[0m     is_text\u001b[38;5;241m=\u001b[39mis_text,\n\u001b[0;32m   1887\u001b[0m     errors\u001b[38;5;241m=\u001b[39m\u001b[38;5;28mself\u001b[39m\u001b[38;5;241m.\u001b[39moptions\u001b[38;5;241m.\u001b[39mget(\u001b[38;5;124m\"\u001b[39m\u001b[38;5;124mencoding_errors\u001b[39m\u001b[38;5;124m\"\u001b[39m, \u001b[38;5;124m\"\u001b[39m\u001b[38;5;124mstrict\u001b[39m\u001b[38;5;124m\"\u001b[39m),\n\u001b[0;32m   1888\u001b[0m     storage_options\u001b[38;5;241m=\u001b[39m\u001b[38;5;28mself\u001b[39m\u001b[38;5;241m.\u001b[39moptions\u001b[38;5;241m.\u001b[39mget(\u001b[38;5;124m\"\u001b[39m\u001b[38;5;124mstorage_options\u001b[39m\u001b[38;5;124m\"\u001b[39m, \u001b[38;5;28;01mNone\u001b[39;00m),\n\u001b[0;32m   1889\u001b[0m )\n\u001b[0;32m   1890\u001b[0m \u001b[38;5;28;01massert\u001b[39;00m \u001b[38;5;28mself\u001b[39m\u001b[38;5;241m.\u001b[39mhandles \u001b[38;5;129;01mis\u001b[39;00m \u001b[38;5;129;01mnot\u001b[39;00m \u001b[38;5;28;01mNone\u001b[39;00m\n\u001b[0;32m   1891\u001b[0m f \u001b[38;5;241m=\u001b[39m \u001b[38;5;28mself\u001b[39m\u001b[38;5;241m.\u001b[39mhandles\u001b[38;5;241m.\u001b[39mhandle\n",
      "File \u001b[1;32mc:\\Users\\Lane\\anaconda3\\Lib\\site-packages\\pandas\\io\\common.py:873\u001b[0m, in \u001b[0;36mget_handle\u001b[1;34m(path_or_buf, mode, encoding, compression, memory_map, is_text, errors, storage_options)\u001b[0m\n\u001b[0;32m    868\u001b[0m \u001b[38;5;28;01melif\u001b[39;00m \u001b[38;5;28misinstance\u001b[39m(handle, \u001b[38;5;28mstr\u001b[39m):\n\u001b[0;32m    869\u001b[0m     \u001b[38;5;66;03m# Check whether the filename is to be opened in binary mode.\u001b[39;00m\n\u001b[0;32m    870\u001b[0m     \u001b[38;5;66;03m# Binary mode does not support 'encoding' and 'newline'.\u001b[39;00m\n\u001b[0;32m    871\u001b[0m     \u001b[38;5;28;01mif\u001b[39;00m ioargs\u001b[38;5;241m.\u001b[39mencoding \u001b[38;5;129;01mand\u001b[39;00m \u001b[38;5;124m\"\u001b[39m\u001b[38;5;124mb\u001b[39m\u001b[38;5;124m\"\u001b[39m \u001b[38;5;129;01mnot\u001b[39;00m \u001b[38;5;129;01min\u001b[39;00m ioargs\u001b[38;5;241m.\u001b[39mmode:\n\u001b[0;32m    872\u001b[0m         \u001b[38;5;66;03m# Encoding\u001b[39;00m\n\u001b[1;32m--> 873\u001b[0m         handle \u001b[38;5;241m=\u001b[39m \u001b[38;5;28mopen\u001b[39m(\n\u001b[0;32m    874\u001b[0m             handle,\n\u001b[0;32m    875\u001b[0m             ioargs\u001b[38;5;241m.\u001b[39mmode,\n\u001b[0;32m    876\u001b[0m             encoding\u001b[38;5;241m=\u001b[39mioargs\u001b[38;5;241m.\u001b[39mencoding,\n\u001b[0;32m    877\u001b[0m             errors\u001b[38;5;241m=\u001b[39merrors,\n\u001b[0;32m    878\u001b[0m             newline\u001b[38;5;241m=\u001b[39m\u001b[38;5;124m\"\u001b[39m\u001b[38;5;124m\"\u001b[39m,\n\u001b[0;32m    879\u001b[0m         )\n\u001b[0;32m    880\u001b[0m     \u001b[38;5;28;01melse\u001b[39;00m:\n\u001b[0;32m    881\u001b[0m         \u001b[38;5;66;03m# Binary mode\u001b[39;00m\n\u001b[0;32m    882\u001b[0m         handle \u001b[38;5;241m=\u001b[39m \u001b[38;5;28mopen\u001b[39m(handle, ioargs\u001b[38;5;241m.\u001b[39mmode)\n",
      "\u001b[1;31mFileNotFoundError\u001b[0m: [Errno 2] No such file or directory: 'Accounts_History_2024.csv'"
     ]
    }
   ],
   "source": [
    "# Load the CSV data\n",
    "file_path = 'Accounts_History_2024.csv'  # Update this path as needed\n",
    "data = pd.read_csv(file_path)"
   ]
  },
  {
   "cell_type": "code",
   "execution_count": 35,
   "metadata": {},
   "outputs": [],
   "source": [
    "# Step 1: Remove any leading/trailing whitespace from all string columns\n",
    "data = data.apply(lambda x: x.str.strip() if x.dtype == \"object\" else x)"
   ]
  },
  {
   "cell_type": "code",
   "execution_count": 36,
   "metadata": {},
   "outputs": [],
   "source": [
    "# Step 2: Remove rows where 'ticker' is NaN to clean extraneous text\n",
    "data = data.dropna(subset=['Symbol'])  # 'Symbol' is renamed to 'ticker' later in Step 3"
   ]
  },
  {
   "cell_type": "code",
   "execution_count": 37,
   "metadata": {},
   "outputs": [],
   "source": [
    "# Step 3: Rename columns\n",
    "rename_columns = {\n",
    "    'Run Date': 'transaction_date',\n",
    "    'Account': 'portfolio_name',\n",
    "    'Action': 'notes',\n",
    "    'Symbol': 'ticker',\n",
    "    'Description': 'asset_name',\n",
    "    'Quantity': 'quantity',\n",
    "    'Price': 'price',\n",
    "    'Amount': 'transaction_amount',\n",
    "    'Commission': 'commission',\n",
    "    'Fees': 'fees'\n",
    "}\n",
    "data = data.rename(columns=rename_columns)\n"
   ]
  },
  {
   "cell_type": "code",
   "execution_count": 39,
   "metadata": {},
   "outputs": [],
   "source": [
    "# Step 4: Fill missing values in 'commission' and 'fees' columns with 0\n",
    "data['commission'] = data['commission'].fillna(0)\n",
    "data['fees'] = data['fees'].fillna(0)"
   ]
  },
  {
   "cell_type": "code",
   "execution_count": 40,
   "metadata": {},
   "outputs": [],
   "source": [
    "# Step 5: Delete unnecessary columns\n",
    "columns_to_delete = [\n",
    "    'Type', 'Exchange Quantity', 'Exchange Currency', 'Currency', \n",
    "    'Exchange Rate', 'Accrued Interest', 'Settlement Date'\n",
    "]\n",
    "data = data.drop(columns=columns_to_delete, errors='ignore')"
   ]
  },
  {
   "cell_type": "code",
   "execution_count": 41,
   "metadata": {},
   "outputs": [],
   "source": [
    "# Step 6: Reorder columns to match the specified order\n",
    "final_columns_order = [\n",
    "    'ticker', 'asset_name', 'quantity', 'price', 'transaction_amount', \n",
    "    'commission', 'fees', 'portfolio_name', 'transaction_date', 'notes'\n",
    "]\n",
    "data = data[final_columns_order]"
   ]
  },
  {
   "cell_type": "code",
   "execution_count": 42,
   "metadata": {},
   "outputs": [],
   "source": [
    "# Step 7: Convert 'transaction_date' to the correct format for SQL insertion (YYYY-MM-DD)\n",
    "data['transaction_date'] = pd.to_datetime(data['transaction_date'], format='%m/%d/%Y').dt.strftime('%Y-%m-%d')"
   ]
  },
  {
   "cell_type": "code",
   "execution_count": 43,
   "metadata": {},
   "outputs": [
    {
     "name": "stdout",
     "output_type": "stream",
     "text": [
      "Cleaned file saved as: Accounts_History_2024_cleaned.csv\n"
     ]
    }
   ],
   "source": [
    "# Step 8: Save to a new CSV file with '_cleaned' suffix\n",
    "cleaned_file_path = os.path.splitext(file_path)[0] + '_cleaned.csv'\n",
    "data.to_csv(cleaned_file_path, index=False)\n",
    "\n",
    "print(f\"Cleaned file saved as: {cleaned_file_path}\")"
   ]
  },
  {
   "cell_type": "code",
   "execution_count": 46,
   "metadata": {},
   "outputs": [
    {
     "name": "stdout",
     "output_type": "stream",
     "text": [
      "An error occurred during data insertion: (psycopg2.errors.ForeignKeyViolation) insert or update on table \"asset_ledger\" violates foreign key constraint \"asset_ledger_ticker_fkey\"\n",
      "DETAIL:  Key (ticker)=(PLTR) is not present in table \"russel_3000\".\n",
      "\n",
      "[SQL: INSERT INTO asset_ledger (ticker, asset_name, quantity, price, transaction_amount, commission, fees, portfolio_name, transaction_date, notes) VALUES (%(ticker__0)s, %(asset_name__0)s, %(quantity__0)s, %(price__0)s, %(transaction_amount__0)s, %(commis ... 4053 characters truncated ... , %(commission__21)s, %(fees__21)s, %(portfolio_name__21)s, %(transaction_date__21)s, %(notes__21)s)]\n",
      "[parameters: {'price__0': 18.38, 'quantity__0': 21.0, 'transaction_amount__0': -385.93, 'commission__0': 0.0, 'transaction_date__0': '2021-12-14', 'ticker__0': 'PLTR', 'fees__0': 0.0, 'asset_name__0': 'PALANTIR TECHNOLOGIES INC CL A', 'portfolio_name__0': 'HSA 226909708', 'notes__0': 'YOU BOUGHT PALANTIR TECHNOLOGIES INC CL A (PLTR) (Cash)', 'price__1': 20.33, 'quantity__1': 5.0, 'transaction_amount__1': -101.64, 'commission__1': 0.0, 'transaction_date__1': '2021-12-14', 'ticker__1': 'CRSR', 'fees__1': 0.0, 'asset_name__1': 'CORSAIR GAMING INC COM', 'portfolio_name__1': 'HSA 226909708', 'notes__1': 'YOU BOUGHT CORSAIR GAMING INC COM (CRSR) (Cash)', 'price__2': 19.68, 'quantity__2': 21.0, 'transaction_amount__2': -413.28, 'commission__2': 0.0, 'transaction_date__2': '2021-12-14', 'ticker__2': 'CHPT', 'fees__2': 0.0, 'asset_name__2': 'CHARGEPOINT HOLDINGS INC COM CL A', 'portfolio_name__2': 'HSA 226909708', 'notes__2': 'YOU BOUGHT CHARGEPOINT HOLDINGS INC COM CL A (CHPT) (Cash)', 'price__3': 2.73, 'quantity__3': 1.0, 'transaction_amount__3': -2.73, 'commission__3': 0.0, 'transaction_date__3': '2021-12-03', 'ticker__3': 'SDCCQ', 'fees__3': 0.0, 'asset_name__3': 'SMILEDIRECTCLUB INC CL A COM', 'portfolio_name__3': 'HSA 226909708', 'notes__3': 'YOU BOUGHT SMILEDIRECTCLUB INC CL A COM (SDCCQ) (Cash)', 'price__4': 4.08, 'quantity__4': 3.0, 'transaction_amount__4': -12.23, 'commission__4': 0.0, 'transaction_date__4': '2021-11-09', 'ticker__4': 'SDCCQ', 'fees__4': 0.0, 'asset_name__4': 'SMILEDIRECTCLUB INC CL A COM', 'portfolio_name__4': 'HSA 226909708', 'notes__4': 'YOU BOUGHT SMILEDIRECTCLUB INC CL A COM (SDCCQ) (Cash)' ... 120 parameters truncated ... 'price__17': 24.0, 'quantity__17': -0.01, 'transaction_amount__17': 0.24, 'commission__17': 0.0, 'transaction_date__17': '2021-03-09', 'ticker__17': 'PLTR', 'fees__17': 0.0, 'asset_name__17': 'PALANTIR TECHNOLOGIES INC CL A', 'portfolio_name__17': 'HSA 226909708', 'notes__17': 'YOU SOLD PALANTIR TECHNOLOGIES INC CL A (PLTR) (Cash)', 'price__18': 24.0, 'quantity__18': -0.07, 'transaction_amount__18': 1.68, 'commission__18': 0.0, 'transaction_date__18': '2021-03-09', 'ticker__18': 'PLTR', 'fees__18': 0.0, 'asset_name__18': 'PALANTIR TECHNOLOGIES INC CL A', 'portfolio_name__18': 'HSA 226909708', 'notes__18': 'YOU SOLD PALANTIR TECHNOLOGIES INC CL A (PLTR) (Cash)', 'price__19': 24.0, 'quantity__19': -16.0, 'transaction_amount__19': 383.99, 'commission__19': 0.0, 'transaction_date__19': '2021-03-09', 'ticker__19': 'PLTR', 'fees__19': 0.01, 'asset_name__19': 'PALANTIR TECHNOLOGIES INC CL A', 'portfolio_name__19': 'HSA 226909708', 'notes__19': 'YOU SOLD PALANTIR TECHNOLOGIES INC CL A (PLTR) (Cash)', 'price__20': 24.88, 'quantity__20': 16.0, 'transaction_amount__20': -398.0, 'commission__20': 0.0, 'transaction_date__20': '2021-03-02', 'ticker__20': 'PLTR', 'fees__20': 0.0, 'asset_name__20': 'PALANTIR TECHNOLOGIES INC CL A', 'portfolio_name__20': 'HSA 226909708', 'notes__20': 'YOU BOUGHT PALANTIR TECHNOLOGIES INC CL A (PLTR) (Cash)', 'price__21': 24.88, 'quantity__21': 0.08, 'transaction_amount__21': -1.99, 'commission__21': 0.0, 'transaction_date__21': '2021-03-02', 'ticker__21': 'PLTR', 'fees__21': 0.0, 'asset_name__21': 'PALANTIR TECHNOLOGIES INC CL A', 'portfolio_name__21': 'HSA 226909708', 'notes__21': 'YOU BOUGHT PALANTIR TECHNOLOGIES INC CL A (PLTR) (Cash)'}]\n",
      "(Background on this error at: https://sqlalche.me/e/20/gkpj)\n"
     ]
    }
   ],
   "source": [
    "# Step 9: Insert Data into PostgreSQL\n",
    "import pandas as pd\n",
    "import psycopg2\n",
    "from sqlalchemy import create_engine\n",
    "from dotenv import load_dotenv\n",
    "import os\n",
    "\n",
    "# Step 9a: Load environment variables from .env file\n",
    "load_dotenv('../server_credentials.env')\n",
    "\n",
    "# Step 9b: Set up database connection using environment variables\n",
    "db_user = os.getenv('DB_USER')\n",
    "db_password = os.getenv('DB_PASSWORD')\n",
    "db_host = os.getenv('DB_HOST')\n",
    "db_port = os.getenv('DB_PORT')\n",
    "db_name = os.getenv('DB_NAME')\n",
    "\n",
    "# Create SQLAlchemy engine for database connection\n",
    "engine = create_engine(f'postgresql://{db_user}:{db_password}@{db_host}:{db_port}/{db_name}')\n",
    "\n",
    "# Step 9c: Insert data into the database\n",
    "try:\n",
    "    with engine.connect() as connection:\n",
    "        data.to_sql('asset_ledger', con=connection, if_exists='append', index=False)\n",
    "    # Step 9d: Confirm successful insertion\n",
    "    print(\"Data successfully inserted into the database.\")\n",
    "except Exception as e:\n",
    "    # Step 9d: Handle errors during insertion\n",
    "    print(f\"An error occurred during data insertion: {e}\")\n"
   ]
  }
 ],
 "metadata": {
  "kernelspec": {
   "display_name": "base",
   "language": "python",
   "name": "python3"
  },
  "language_info": {
   "codemirror_mode": {
    "name": "ipython",
    "version": 3
   },
   "file_extension": ".py",
   "mimetype": "text/x-python",
   "name": "python",
   "nbconvert_exporter": "python",
   "pygments_lexer": "ipython3",
   "version": "3.12.4"
  }
 },
 "nbformat": 4,
 "nbformat_minor": 2
}
