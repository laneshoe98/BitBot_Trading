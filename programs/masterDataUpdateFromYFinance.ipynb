{
 "cells": [
  {
   "cell_type": "code",
   "execution_count": 95,
   "metadata": {},
   "outputs": [],
   "source": [
    "# Step 1: Import Required Libraries\n",
    "# Purpose: Load essential libraries, including pandas for data handling and yfinance for fetching stock information.\n",
    "\n",
    "import pandas as pd  # For handling data in DataFrame format\n",
    "import yfinance as yf  # To fetch stock data from Yahoo Finance\n",
    "import time  # To add delays between API calls for rate limiting\n",
    "from tqdm import tqdm  # For displaying a progress bar in Jupyter Notebook\n"
   ]
  },
  {
   "cell_type": "code",
   "execution_count": 96,
   "metadata": {},
   "outputs": [
    {
     "name": "stdout",
     "output_type": "stream",
     "text": [
      "Data loaded from master_data file.\n"
     ]
    }
   ],
   "source": [
    "# Step 2: Load the master_data CSV File\n",
    "# Purpose: Load the CSV file containing stock information, some of which may have missing fields.\n",
    "\n",
    "# Define the path to your CSV file\n",
    "file_path = r'C:\\Users\\Lane\\Documents\\Projects\\trading_bot\\data\\master_data12.csv'\n",
    "output_path = 'master_data13.csv'  # Define path for the updated CSV file\n",
    "\n",
    "# Load the CSV file into a DataFrame\n",
    "master_data = pd.read_csv(file_path)\n",
    "print(\"Data loaded from master_data file.\")\n"
   ]
  },
  {
   "cell_type": "code",
   "execution_count": 97,
   "metadata": {},
   "outputs": [
    {
     "name": "stdout",
     "output_type": "stream",
     "text": [
      "Rows with missing values identified: 12 rows.\n"
     ]
    }
   ],
   "source": [
    "# Step 3: Identify Rows with Missing Data in Specific Columns\n",
    "# Purpose: Filter out rows with blanks in specified columns so we know which records need updates from yfinance.\n",
    "\n",
    "# Specify columns that need to be checked for missing data\n",
    "columns_to_check = ['asset_name', 'sector', 'industry', 'first_traded']\n",
    "\n",
    "# Identify rows with any missing data in these columns\n",
    "rows_with_blanks = master_data[master_data[columns_to_check].isnull().any(axis=1)]\n",
    "print(f\"Rows with missing values identified: {len(rows_with_blanks)} rows.\")\n"
   ]
  },
  {
   "cell_type": "code",
   "execution_count": 98,
   "metadata": {},
   "outputs": [],
   "source": [
    "# Step 4: Define the Function to Fetch and Fill Data from yfinance with Improved Handling\n",
    "def fetch_and_fill_data(row):\n",
    "    symbol = row.get('symbol', '')  # Get the stock symbol from the row\n",
    "\n",
    "    try:\n",
    "        # Fetch stock data using yfinance\n",
    "        stock = yf.Ticker(symbol)\n",
    "        info = stock.info\n",
    "        \n",
    "        # Print entire info dictionary for detailed debugging\n",
    "        print(f\"\\nFull info data for {symbol}: {info}\")\n",
    "\n",
    "        # Assign values only if they are not None\n",
    "        row['asset_name'] = row['asset_name'] or (info.get('longName') if info.get('longName') else '')\n",
    "        row['sector'] = row['sector'] or (info.get('sector') if info.get('sector') else '')\n",
    "        row['industry'] = row['industry'] or (info.get('industry') if info.get('industry') else '')\n",
    "        \n",
    "        # Handle the 'first_traded' date separately in case it's missing\n",
    "        if pd.isna(row['first_traded']) or row['first_traded'] == '':\n",
    "            first_trade_date = info.get('firstTradeDate', None)\n",
    "            if not first_trade_date:\n",
    "                history_data = stock.history(period=\"max\")\n",
    "                first_trade_date = history_data.index.min().strftime('%Y-%m-%d') if not history_data.empty else ''\n",
    "            row['first_traded'] = first_trade_date\n",
    "\n",
    "    except Exception as e:\n",
    "        print(f\"Could not retrieve data for {symbol}: {e}\")\n",
    "        \n",
    "    return row  # Return the updated row\n"
   ]
  },
  {
   "cell_type": "code",
   "execution_count": 99,
   "metadata": {},
   "outputs": [
    {
     "name": "stdout",
     "output_type": "stream",
     "text": [
      "\n",
      "Full info data for USD: {'longBusinessSummary': 'The fund invests in financial instruments that ProShare Advisors believes, in combination, should produce daily returns consistent with the Daily Target. The index is designed to measure the stock performance of U.S. companies in the semiconductors sub-sector. Component companies are engaged in the production and distribution of semiconductors and other integrated chips, as well as other related products such as semiconductor capital equipment and mother-boards. The fund is non-diversified.', 'maxAge': 86400, 'priceHint': 2, 'previousClose': 71.855, 'open': 73.12, 'dayLow': 73.052, 'dayHigh': 74.77, 'regularMarketPreviousClose': 71.855, 'regularMarketOpen': 73.12, 'regularMarketDayLow': 73.052, 'regularMarketDayHigh': 74.77, 'volume': 417512, 'regularMarketVolume': 417512, 'averageVolume': 509309, 'averageVolume10days': 465840, 'averageDailyVolume10Day': 465840, 'bid': 74.33, 'ask': 74.36, 'bidSize': 800, 'askSize': 800, 'yield': 0.0002, 'totalAssets': 1175116544, 'fiftyTwoWeekLow': 40.89, 'fiftyTwoWeekHigh': 170.13, 'fiftyDayAverage': 121.9402, 'twoHundredDayAverage': 110.54555, 'navPrice': 143.5348, 'currency': 'USD', 'category': 'Trading--Leveraged Equity', 'ytdReturn': 1.6407571, 'beta3Year': 3.5, 'fundFamily': 'ProShares', 'fundInceptionDate': 1170115200, 'legalType': 'Exchange Traded Fund', 'threeYearAverageReturn': 0.4268641, 'fiveYearAverageReturn': 0.6067143, 'exchange': 'PCX', 'quoteType': 'ETF', 'symbol': 'USD', 'underlyingSymbol': 'USD', 'shortName': 'ProShares Ultra Semiconductors', 'longName': 'ProShares Ultra Semiconductors', 'firstTradeDateEpochUtc': 1170340200, 'timeZoneFullName': 'America/New_York', 'timeZoneShortName': 'EST', 'uuid': '3518f894-4d42-312d-937d-affe097d216e', 'messageBoardId': 'finmb_32431934', 'gmtOffSetMilliseconds': -18000000, 'trailingPegRatio': None}\n",
      "\n",
      "Full info data for CURB: {'maxAge': 86400, 'priceHint': 2, 'previousClose': 24.22, 'open': 24.22, 'dayLow': 23.82, 'dayHigh': 24.53, 'regularMarketPreviousClose': 24.22, 'regularMarketOpen': 24.22, 'regularMarketDayLow': 23.82, 'regularMarketDayHigh': 24.53, 'trailingPE': 81.6, 'forwardPE': 55.636364, 'volume': 116036, 'regularMarketVolume': 116036, 'averageVolume': 1157143, 'averageVolume10days': 646840, 'averageDailyVolume10Day': 646840, 'bid': 24.48, 'ask': 24.52, 'bidSize': 1100, 'askSize': 800, 'marketCap': 2566972672, 'fiftyTwoWeekLow': 18.8, 'fiftyTwoWeekHigh': 25.15, 'fiftyDayAverage': 23.016333, 'twoHundredDayAverage': 23.016333, 'currency': 'USD', 'exchange': 'NYQ', 'quoteType': 'EQUITY', 'symbol': 'CURB', 'underlyingSymbol': 'CURB', 'shortName': 'Curbline Properties Corp.', 'longName': 'Curbline Properties Corp.', 'firstTradeDateEpochUtc': 1727357400, 'timeZoneFullName': 'America/New_York', 'timeZoneShortName': 'EST', 'uuid': 'c902416c-b315-33f6-b610-ca194d0635b4', 'messageBoardId': 'finmb_1860584814', 'gmtOffSetMilliseconds': -18000000, 'currentPrice': 24.48, 'targetHighPrice': 28.0, 'targetLowPrice': 22.0, 'targetMeanPrice': 24.95, 'targetMedianPrice': 25.0, 'recommendationMean': 2.4, 'recommendationKey': 'buy', 'numberOfAnalystOpinions': 5, 'trailingPegRatio': None}\n"
     ]
    },
    {
     "name": "stderr",
     "output_type": "stream",
     "text": [
      "404 Client Error: Not Found for url: https://query2.finance.yahoo.com/v10/finance/quoteSummary/-CMG260116P50?modules=financialData%2CquoteType%2CdefaultKeyStatistics%2CassetProfile%2CsummaryDetail&corsDomain=finance.yahoo.com&formatted=false&symbol=-CMG260116P50&crumb=pUw6xVt4hfQ\n",
      "$-CMG260116P50: possibly delisted; no timezone found\n"
     ]
    },
    {
     "name": "stdout",
     "output_type": "stream",
     "text": [
      "\n",
      "Full info data for -CMG260116P50: {'trailingPegRatio': None}\n"
     ]
    },
    {
     "name": "stderr",
     "output_type": "stream",
     "text": [
      "404 Client Error: Not Found for url: https://query2.finance.yahoo.com/v10/finance/quoteSummary/-CMG261218P50?modules=financialData%2CquoteType%2CdefaultKeyStatistics%2CassetProfile%2CsummaryDetail&corsDomain=finance.yahoo.com&formatted=false&symbol=-CMG261218P50&crumb=pUw6xVt4hfQ\n",
      "$-CMG261218P50: possibly delisted; no timezone found\n"
     ]
    },
    {
     "name": "stdout",
     "output_type": "stream",
     "text": [
      "\n",
      "Full info data for -CMG261218P50: {'trailingPegRatio': None}\n"
     ]
    },
    {
     "name": "stderr",
     "output_type": "stream",
     "text": [
      "404 Client Error: Not Found for url: https://query2.finance.yahoo.com/v10/finance/quoteSummary/-CMG250620P55?modules=financialData%2CquoteType%2CdefaultKeyStatistics%2CassetProfile%2CsummaryDetail&corsDomain=finance.yahoo.com&formatted=false&symbol=-CMG250620P55&crumb=pUw6xVt4hfQ\n",
      "$-CMG250620P55: possibly delisted; no timezone found\n"
     ]
    },
    {
     "name": "stdout",
     "output_type": "stream",
     "text": [
      "\n",
      "Full info data for -CMG250620P55: {'trailingPegRatio': None}\n",
      "\n",
      "Full info data for CHAT: {'longBusinessSummary': 'The fund is an actively managed exchange-traded fund (ETF) that seeks to achieve its investment objective by investing in the equity securities of exchange-listed companies globally, including those in emerging markets, which are involved in the investment theme of artificial intelligence (AI), focused on generative AI and related technologies. Under normal circumstances, the fund will invest at least 80% of its net assets, plus borrowings for investment purposes, in equity securities of AI and Technology Companies. The fund is non-diversified.', 'maxAge': 86400, 'priceHint': 2, 'previousClose': 40.27, 'open': 40.78, 'dayLow': 40.75, 'dayHigh': 41.1799, 'regularMarketPreviousClose': 40.27, 'regularMarketOpen': 40.78, 'regularMarketDayLow': 40.75, 'regularMarketDayHigh': 41.1799, 'volume': 65806, 'regularMarketVolume': 65806, 'averageVolume': 37532, 'averageVolume10days': 39930, 'averageDailyVolume10Day': 39930, 'bid': 41.08, 'ask': 41.16, 'bidSize': 1000, 'askSize': 3000, 'totalAssets': 204629168, 'fiftyTwoWeekLow': 27.99, 'fiftyTwoWeekHigh': 41.1799, 'fiftyDayAverage': 37.00844, 'twoHundredDayAverage': 35.65843, 'navPrice': 40.2913, 'currency': 'USD', 'category': 'Technology', 'ytdReturn': 0.3036581, 'fundFamily': 'Roundhill Investments', 'fundInceptionDate': 1684281600, 'legalType': 'Exchange Traded Fund', 'exchange': 'PCX', 'quoteType': 'ETF', 'symbol': 'CHAT', 'underlyingSymbol': 'CHAT', 'shortName': 'Roundhill Generative AI & Techn', 'longName': 'Roundhill Generative AI & Technology ETF', 'firstTradeDateEpochUtc': 1684416600, 'timeZoneFullName': 'America/New_York', 'timeZoneShortName': 'EST', 'uuid': '698fee30-a143-36a7-beaa-91f06848bafa', 'messageBoardId': 'finmb_1832202240', 'gmtOffSetMilliseconds': -18000000, 'trailingPegRatio': None}\n"
     ]
    },
    {
     "name": "stderr",
     "output_type": "stream",
     "text": [
      "404 Client Error: Not Found for url: https://query2.finance.yahoo.com/v10/finance/quoteSummary/-IYR250117P95?modules=financialData%2CquoteType%2CdefaultKeyStatistics%2CassetProfile%2CsummaryDetail&corsDomain=finance.yahoo.com&formatted=false&symbol=-IYR250117P95&crumb=pUw6xVt4hfQ\n",
      "$-IYR250117P95: possibly delisted; no timezone found\n",
      "$05353D103: possibly delisted; no timezone found\n"
     ]
    },
    {
     "name": "stdout",
     "output_type": "stream",
     "text": [
      "\n",
      "Full info data for -IYR250117P95: {'trailingPegRatio': None}\n",
      "\n",
      "Full info data for 05353D103: {'quoteType': 'NONE', 'symbol': '05353D103', 'underlyingSymbol': '05353D103', 'uuid': 'eb3b22ec-48a9-342d-a8f9-7963bfc69f9d', 'maxAge': 86400, 'trailingPegRatio': None}\n"
     ]
    },
    {
     "name": "stderr",
     "output_type": "stream",
     "text": [
      "404 Client Error: Not Found for url: https://query2.finance.yahoo.com/v10/finance/quoteSummary/-SPY240930P540?modules=financialData%2CquoteType%2CdefaultKeyStatistics%2CassetProfile%2CsummaryDetail&corsDomain=finance.yahoo.com&formatted=false&symbol=-SPY240930P540&crumb=pUw6xVt4hfQ\n",
      "$-SPY240930P540: possibly delisted; no timezone found\n"
     ]
    },
    {
     "name": "stdout",
     "output_type": "stream",
     "text": [
      "\n",
      "Full info data for -SPY240930P540: {'trailingPegRatio': None}\n",
      "\n",
      "Full info data for SDCCQ: {'address1': '414 Union Street', 'city': 'Nashville', 'state': 'TN', 'zip': '37219', 'country': 'United States', 'phone': '800-686-4010', 'website': 'https://investors.smiledirectclub.com', 'industry': 'Medical Instruments & Supplies', 'industryKey': 'medical-instruments-supplies', 'industryDisp': 'Medical Instruments & Supplies', 'sector': 'Healthcare', 'sectorKey': 'healthcare', 'sectorDisp': 'Healthcare', 'longBusinessSummary': \"SmileDirectClub, Inc., an oral care company, offers clear aligner therapy treatment. The company manages the end-to-end process, which include marketing, aligner manufacturing, fulfillment, treatment by a customer's dentist or orthodontist, and facilitating remote clinical monitoring through a network of orthodontists and general dentists through its proprietary teledentistry platform, SmileCheck in the United States, Puerto Rico, Canada, Australia, the United Kingdom, New Zealand, Ireland, Hong Kong, Germany, Singapore, France, Spain, and Austria. It also offers aligners, impression and whitening kits, whitening gels, and retainers; and toothbrushes, toothpastes, water flossers, SmileSpa, and various ancillary oral care products. The company was founded in 2014 and is headquartered in Nashville, Tennessee. On January 26, 2024, the voluntary petition of SmileDirectClub, Inc. for reorganization under Chapter 11 was converted to Chapter 7. It had filed for Chapter 11 bankruptcy on September 29, 2023..\", 'fullTimeEmployees': 2700, 'companyOfficers': [{'maxAge': 1, 'name': 'Mr. David B. Katzman', 'age': 63, 'title': 'CEO & Chairman', 'yearBorn': 1960, 'fiscalYear': 2022, 'totalPay': 1205113, 'exercisedValue': 0, 'unexercisedValue': 0}, {'maxAge': 1, 'name': 'Mr. Alexander J. Fenkell', 'age': 33, 'title': 'Co-Founder & Director', 'yearBorn': 1990, 'fiscalYear': 2022, 'exercisedValue': 0, 'unexercisedValue': 0}, {'maxAge': 1, 'name': 'Mr. Jordan M. Katzman', 'age': 33, 'title': 'Co-Founder & Director', 'yearBorn': 1990, 'fiscalYear': 2022, 'exercisedValue': 0, 'unexercisedValue': 0}, {'maxAge': 1, 'name': 'Mr. Troy W. Crawford', 'age': 55, 'title': 'CFO, Chief Accounting Officer & Treasurer', 'yearBorn': 1968, 'fiscalYear': 2022, 'totalPay': 967252, 'exercisedValue': 0, 'unexercisedValue': 0}, {'maxAge': 1, 'name': 'Mr. Steven B. Katzman', 'age': 59, 'title': 'COO & Director', 'yearBorn': 1964, 'fiscalYear': 2022, 'totalPay': 1114631, 'exercisedValue': 0, 'unexercisedValue': 0}, {'maxAge': 1, 'name': 'Ms. Susan Greenspon Rammelt', 'age': 58, 'title': 'Chief Legal Officer, EVP Business Affairs, Secretary & Director', 'yearBorn': 1965, 'fiscalYear': 2022, 'totalPay': 1189020, 'exercisedValue': 0, 'unexercisedValue': 0}, {'maxAge': 1, 'name': 'Justin  Skinner', 'title': 'Chief Technology Officer', 'fiscalYear': 2022, 'exercisedValue': 0, 'unexercisedValue': 0}, {'maxAge': 1, 'name': 'Jonathan  Fleetwood', 'title': 'Director of Investor Relations', 'fiscalYear': 2022, 'exercisedValue': 0, 'unexercisedValue': 0}, {'maxAge': 1, 'name': 'Mr. Steve  Cicurel', 'title': 'Chief Development Officer', 'fiscalYear': 2022, 'exercisedValue': 0, 'unexercisedValue': 0}, {'maxAge': 1, 'name': 'Mr. Brett  Deaver', 'title': 'Senior VP & GM of Global Partner Network', 'fiscalYear': 2022, 'exercisedValue': 0, 'unexercisedValue': 0}], 'compensationAsOfEpochDate': 1672444800, 'maxAge': 86400, 'priceHint': 4, 'previousClose': 0.0002, 'open': 0.0001, 'dayLow': 0.0001, 'dayHigh': 0.0002, 'regularMarketPreviousClose': 0.0002, 'regularMarketOpen': 0.0001, 'regularMarketDayLow': 0.0001, 'regularMarketDayHigh': 0.0002, 'beta': 1.898, 'forwardPE': -0.0005405405, 'volume': 4886, 'regularMarketVolume': 4886, 'averageVolume': 63490, 'averageVolume10days': 138725, 'averageDailyVolume10Day': 138725, 'marketCap': 80521, 'fiftyTwoWeekLow': 1e-05, 'fiftyTwoWeekHigh': 0.0896, 'priceToSalesTrailing12Months': 0.0001940845, 'fiftyDayAverage': 0.000566, 'twoHundredDayAverage': 0.00190925, 'currency': 'USD', 'enterpriseValue': 277741792, 'profitMargins': -0.19936001, 'floatShares': 124337300, 'sharesOutstanding': 133984000, 'sharesShort': 29786840, 'sharesShortPriorMonth': 29495128, 'sharesShortPreviousMonthDate': 1692057600, 'dateShortInterest': 1694736000, 'sharesPercentSharesOut': 0.2223, 'heldPercentInsiders': 0.079239994, 'heldPercentInstitutions': 0.00035999998, 'shortRatio': 27.95, 'shortPercentOfFloat': 0.2298, 'impliedSharesOutstanding': 268623008, 'bookValue': 0.648, 'priceToBook': 0.00030864196, 'lastFiscalYearEnd': 1672444800, 'nextFiscalYearEnd': 1703980800, 'mostRecentQuarter': 1688083200, 'netIncomeToCommon': -82711000, 'trailingEps': -0.65, 'forwardEps': -0.37, 'enterpriseToRevenue': 0.669, 'enterpriseToEbitda': -1.539, '52WeekChange': -0.995, 'SandP52WeekChange': 0.36382854, 'exchange': 'OEM', 'quoteType': 'EQUITY', 'symbol': 'SDCCQ', 'underlyingSymbol': 'SDCCQ', 'shortName': 'SmileDirectClub, Inc.', 'longName': 'SmileDirectClub, Inc.', 'firstTradeDateEpochUtc': 1568295000, 'timeZoneFullName': 'America/New_York', 'timeZoneShortName': 'EST', 'uuid': '5f1edcf3-d570-3778-8494-07eca4fa77ac', 'messageBoardId': 'finmb_264413492', 'gmtOffSetMilliseconds': -18000000, 'currentPrice': 0.0002, 'recommendationMean': 4.0, 'recommendationKey': 'underperform', 'totalCash': 28934000, 'totalCashPerShare': 0.216, 'ebitda': -180420000, 'totalDebt': 883284992, 'quickRatio': 1.424, 'currentRatio': 1.902, 'totalRevenue': 414876000, 'revenuePerShare': 3.277, 'returnOnAssets': -0.22659999, 'freeCashflow': -79023128, 'operatingCashflow': -129488000, 'revenueGrowth': -0.191, 'grossMargins': 0.69262004, 'ebitdaMargins': -0.43488, 'operatingMargins': -0.35836, 'financialCurrency': 'USD', 'trailingPegRatio': None}\n",
      "\n",
      "Full info data for OTLY: {'address1': 'AngfAerjekajen 8', 'city': 'Malmö', 'zip': '211 19', 'country': 'Sweden', 'phone': '46 4 18 47 55 00', 'website': 'https://www.oatly.com', 'industry': 'Packaged Foods', 'industryKey': 'packaged-foods', 'industryDisp': 'Packaged Foods', 'sector': 'Consumer Defensive', 'sectorKey': 'consumer-defensive', 'sectorDisp': 'Consumer Defensive', 'longBusinessSummary': 'Oatly Group AB, an oatmilk company, provides a range of plant-based dairy products made from oats in Europe, the Middle East, Africa, the Americas, and Asia. It offers Barista edition oatmilk, oatgurts, frozen desserts, ice-creams, and yogurts; cooking products, including cooking cream, in regular and organic, Crème Fraiche, whipping cream, vanilla custard, and spreads in a variety of flavors; and ready-to-go drinks. The company was formerly known as Havre Global AB and changed its name to Oatly Group AB in March 2021. Oatly Group AB was founded in 1994 and is headquartered in Malmö, Sweden.', 'fullTimeEmployees': 1465, 'companyOfficers': [{'maxAge': 1, 'name': 'Mr. Jean-Christophe  Flatin', 'age': 54, 'title': 'Chief Executive Officer', 'yearBorn': 1969, 'fiscalYear': 2023, 'totalPay': 664782, 'exercisedValue': 0, 'unexercisedValue': 0}, {'maxAge': 1, 'name': 'Ms. Marie-Jose  David', 'age': 51, 'title': 'Chief Financial Officer', 'yearBorn': 1972, 'fiscalYear': 2023, 'exercisedValue': 0, 'unexercisedValue': 0}, {'maxAge': 1, 'name': 'Mr. Daniel  Ordonez', 'age': 54, 'title': 'Chief Operating Officer', 'yearBorn': 1969, 'fiscalYear': 2023, 'exercisedValue': 0, 'unexercisedValue': 0}, {'maxAge': 1, 'name': 'Mr. Brian  Kearney', 'title': 'Vice President of Investor Relations', 'fiscalYear': 2023, 'exercisedValue': 0, 'unexercisedValue': 0}, {'maxAge': 1, 'name': 'Ms. Christel  Kinning', 'age': 61, 'title': 'Chief Transformation & People Officer', 'yearBorn': 1962, 'fiscalYear': 2023, 'exercisedValue': 0, 'unexercisedValue': 0}, {'maxAge': 1, 'name': 'John  Schoolcraft', 'title': 'Chief Creative Officer', 'fiscalYear': 2023, 'exercisedValue': 0, 'unexercisedValue': 0}, {'maxAge': 1, 'name': 'Sofia  Ehlde', 'title': 'Executive Vice President of Food Innovation', 'fiscalYear': 2023, 'exercisedValue': 0, 'unexercisedValue': 0}, {'maxAge': 1, 'name': 'David  Zhang', 'title': 'President of Greater China', 'fiscalYear': 2023, 'exercisedValue': 0, 'unexercisedValue': 0}, {'maxAge': 1, 'name': 'Fredrik  Frimodig', 'title': 'Chief Business Technology Officer', 'fiscalYear': 2023, 'exercisedValue': 0, 'unexercisedValue': 0}, {'maxAge': 1, 'name': 'Helge  Weitz', 'title': 'President of North America', 'fiscalYear': 2023, 'exercisedValue': 0, 'unexercisedValue': 0}], 'compensationAsOfEpochDate': 1703980800, 'maxAge': 86400, 'priceHint': 4, 'previousClose': 0.9293, 'open': 0.86, 'dayLow': 0.783, 'dayHigh': 0.86, 'regularMarketPreviousClose': 0.9293, 'regularMarketOpen': 0.86, 'regularMarketDayLow': 0.783, 'regularMarketDayHigh': 0.86, 'beta': 2.087, 'forwardPE': -4.3894444, 'volume': 3826436, 'regularMarketVolume': 3826436, 'averageVolume': 1855914, 'averageVolume10days': 2655680, 'averageDailyVolume10Day': 2655680, 'bid': 0.7594, 'ask': 0.8301, 'bidSize': 400, 'askSize': 600, 'marketCap': 471640704, 'fiftyTwoWeekLow': 0.499, 'fiftyTwoWeekHigh': 1.4, 'priceToSalesTrailing12Months': 0.5947055, 'fiftyDayAverage': 0.86258, 'twoHundredDayAverage': 1.00169, 'currency': 'USD', 'enterpriseValue': 903649472, 'profitMargins': -0.41707, 'floatShares': 234930919, 'sharesOutstanding': 596937984, 'sharesShort': 20958970, 'sharesShortPriorMonth': 19877488, 'sharesShortPreviousMonthDate': 1726185600, 'dateShortInterest': 1728950400, 'sharesPercentSharesOut': 0.035099998, 'heldPercentInsiders': 0.01766, 'heldPercentInstitutions': 0.60933995, 'shortRatio': 7.89, 'shortPercentOfFloat': 0.0665, 'impliedSharesOutstanding': 596937984, 'bookValue': 0.409, 'priceToBook': 1.9317847, 'lastFiscalYearEnd': 1703980800, 'nextFiscalYearEnd': 1735603200, 'mostRecentQuarter': 1719705600, 'netIncomeToCommon': -330760992, 'trailingEps': -0.56, 'forwardEps': -0.18, 'pegRatio': -0.1, 'enterpriseToRevenue': 1.139, 'enterpriseToEbitda': -7.137, '52WeekChange': 0.6860254, 'SandP52WeekChange': 0.36382854, 'exchange': 'NMS', 'quoteType': 'EQUITY', 'symbol': 'OTLY', 'underlyingSymbol': 'OTLY', 'shortName': 'Oatly Group AB', 'longName': 'Oatly Group AB', 'firstTradeDateEpochUtc': 1621517400, 'timeZoneFullName': 'America/New_York', 'timeZoneShortName': 'EST', 'uuid': '198faa54-68b4-3d5d-b21d-e1d362afc965', 'messageBoardId': 'finmb_685045828', 'gmtOffSetMilliseconds': -18000000, 'currentPrice': 0.7901, 'targetHighPrice': 2.73, 'targetLowPrice': 1.05, 'targetMeanPrice': 1.68, 'targetMedianPrice': 1.4, 'recommendationMean': 2.3, 'recommendationKey': 'buy', 'numberOfAnalystOpinions': 7, 'totalCash': 142728000, 'totalCashPerShare': 0.239, 'ebitda': -126612000, 'totalDebt': 489974016, 'quickRatio': 0.502, 'currentRatio': 0.68, 'totalRevenue': 793065984, 'debtToEquity': 199.313, 'revenuePerShare': 1.333, 'returnOnAssets': -0.08595, 'returnOnEquity': -0.83638, 'freeCashflow': -100868624, 'operatingCashflow': -138548992, 'revenueGrowth': 0.032, 'grossMargins': 0.24360001, 'ebitdaMargins': -0.15965, 'operatingMargins': -0.16315001, 'financialCurrency': 'USD', 'trailingPegRatio': None}\n",
      "\n",
      "Full info data for VWAGY: {'address1': 'Berliner Ring 2', 'city': 'Wolfsburg', 'zip': '38440', 'country': 'Germany', 'phone': '49 5361 9 0', 'fax': '49 5361 9 28282', 'website': 'https://www.volkswagen-group.com', 'industry': 'Auto Manufacturers', 'industryKey': 'auto-manufacturers', 'industryDisp': 'Auto Manufacturers', 'sector': 'Consumer Cyclical', 'sectorKey': 'consumer-cyclical', 'sectorDisp': 'Consumer Cyclical', 'longBusinessSummary': 'Volkswagen AG manufactures and sells automobiles in Germany, other European countries, North America, South America, the Asia-Pacific, and internationally. The company operates through four segments: Passenger Cars and Light Commercial Vehicles, Commercial Vehicles, Power Engineering, and Financial Services. The Passenger Cars and Light Commercial Vehicles segment engages in the development of vehicles, engines, and vehicle software; produces and sells passenger cars and light commercial vehicles, and related parts; and offers motorcycles. The Commercial Vehicles segment develops, produces, and sells trucks and buses; and offers parts and related services. The Power Engineering segment offers large-bore diesel engines, turbomachinery, and propulsion components. The Financial Services segment provides dealership and customer financing, leasing, direct banking and insurance, fleet management, and mobility services. It sells its products under the Volkswagen Passenger Cars, \\x8akoda, SEAT/CUPRA, Volkswagen Commercial Vehicles, Audi, Lamborghini, Bentley, Ducati, Porsche, Scania, MAN, Volkswagen Truck & Bus, Navistar commercial vehicles, and Bugatti brands. The company was founded in 1937 and is headquartered in Wolfsburg, Germany. Volkswagen AG operates as a subsidiary of Porsche Automobil Holding SE.', 'fullTimeEmployees': 651917, 'companyOfficers': [{'maxAge': 1, 'name': 'Dr. Oliver  Blume', 'age': 55, 'title': 'Chief Executive & Chairman of the Board of Management', 'yearBorn': 1968, 'fiscalYear': 2023, 'totalPay': 8714472, 'exercisedValue': 0, 'unexercisedValue': 0}, {'maxAge': 1, 'name': 'Dr. Arno  Antlitz', 'age': 53, 'title': 'CFO, COO & Member of the Board of Management', 'yearBorn': 1970, 'fiscalYear': 2023, 'totalPay': 4784496, 'exercisedValue': 0, 'unexercisedValue': 0}, {'maxAge': 1, 'name': 'Mr. Thomas Schmall-Reichsgraf von und zu Westerholt', 'age': 59, 'title': 'Member of the Management Board & Head of Technology', 'yearBorn': 1964, 'fiscalYear': 2023, 'totalPay': 4783813, 'exercisedValue': 0, 'unexercisedValue': 0}, {'maxAge': 1, 'name': 'Mr. Thomas  Schafer', 'age': 53, 'title': 'CEO of the Passenger Cars Brand, CEO & COO of Volkswagen Brand and Member of Management Board', 'yearBorn': 1970, 'fiscalYear': 2023, 'totalPay': 4996150, 'exercisedValue': 0, 'unexercisedValue': 0}, {'maxAge': 1, 'name': 'Mr. Ralf  Brandstatter', 'age': 55, 'title': 'Member of Board of Management', 'yearBorn': 1968, 'fiscalYear': 2023, 'totalPay': 5381296, 'exercisedValue': 0, 'unexercisedValue': 0}, {'maxAge': 1, 'name': 'Dr. Manfred  Doss', 'age': 65, 'title': 'Member of Management Board & Head of Integrity and Legal Affairs', 'yearBorn': 1958, 'fiscalYear': 2023, 'totalPay': 3579007, 'exercisedValue': 0, 'unexercisedValue': 0}, {'maxAge': 1, 'name': 'Mr. Gunnar  Kilian', 'age': 48, 'title': 'Member of Management Board and Head of Human Resources & Trucks', 'yearBorn': 1975, 'fiscalYear': 2023, 'totalPay': 4783224, 'exercisedValue': 0, 'unexercisedValue': 0}, {'maxAge': 1, 'name': 'Ms. Hauke  Stars', 'age': 56, 'title': 'Member of Management Board', 'yearBorn': 1967, 'fiscalYear': 2023, 'totalPay': 4804728, 'exercisedValue': 0, 'unexercisedValue': 0}, {'maxAge': 1, 'name': 'Dr. Gernot  Dollner', 'title': 'Member of Management Board', 'fiscalYear': 2023, 'totalPay': 2780827, 'exercisedValue': 0, 'unexercisedValue': 0}, {'maxAge': 1, 'name': 'Mr. Martin  Sander', 'title': 'Member of Management Board', 'fiscalYear': 2023, 'exercisedValue': 0, 'unexercisedValue': 0}], 'compensationAsOfEpochDate': 1703980800, 'maxAge': 86400, 'priceHint': 2, 'previousClose': 9.29, 'open': 9.68, 'dayLow': 9.6, 'dayHigh': 9.68, 'regularMarketPreviousClose': 9.29, 'regularMarketOpen': 9.68, 'regularMarketDayLow': 9.6, 'regularMarketDayHigh': 9.68, 'dividendRate': 0.98, 'dividendYield': 0.105, 'exDividendDate': 1717113600, 'payoutRatio': 0.3688, 'fiveYearAvgDividendYield': 2.2, 'beta': 1.217, 'trailingPE': 3.6067414, 'forwardPE': 3.2533784, 'volume': 49949, 'regularMarketVolume': 49949, 'averageVolume': 361225, 'averageVolume10days': 414000, 'averageDailyVolume10Day': 414000, 'bid': 9.63, 'ask': 9.64, 'bidSize': 40000, 'askSize': 40000, 'marketCap': 50726793216, 'fiftyTwoWeekLow': 9.1, 'fiftyTwoWeekHigh': 16.48, 'priceToSalesTrailing12Months': 0.15634173, 'fiftyDayAverage': 10.61002, 'twoHundredDayAverage': 12.93291, 'trailingAnnualDividendRate': 9.06, 'trailingAnnualDividendYield': 0.97524226, 'currency': 'USD', 'enterpriseValue': 225393786880, 'profitMargins': 0.03974, 'floatShares': 234806701, 'sharesOutstanding': 2950899968, 'heldPercentInstitutions': 0.000120000004, 'impliedSharesOutstanding': 5267579904, 'bookValue': 325.858, 'priceToBook': 0.02955275, 'lastFiscalYearEnd': 1703980800, 'nextFiscalYearEnd': 1735603200, 'mostRecentQuarter': 1727654400, 'earningsQuarterlyGrowth': -0.661, 'netIncomeToCommon': 12254999552, 'trailingEps': 2.67, 'forwardEps': 2.96, 'pegRatio': 0.41, 'lastSplitFactor': '2:1', 'lastSplitDate': 1534204800, 'enterpriseToRevenue': 0.695, 'enterpriseToEbitda': 8.692, '52WeekChange': -0.23927987, 'SandP52WeekChange': 0.36382854, 'lastDividendValue': 0.964, 'lastDividendDate': 1717113600, 'exchange': 'PNK', 'quoteType': 'EQUITY', 'symbol': 'VWAGY', 'underlyingSymbol': 'VWAGY', 'shortName': 'Volkswagen AG', 'longName': 'Volkswagen AG', 'firstTradeDateEpochUtc': 1041517800, 'timeZoneFullName': 'America/New_York', 'timeZoneShortName': 'EST', 'uuid': '2fd0294b-f0af-342c-affc-1272eba7f54a', 'messageBoardId': 'finmb_377732', 'gmtOffSetMilliseconds': -18000000, 'currentPrice': 9.63, 'targetHighPrice': 14.5, 'targetLowPrice': 9.51, 'targetMeanPrice': 12.0, 'targetMedianPrice': 12.0, 'recommendationMean': 2.0, 'recommendationKey': 'buy', 'numberOfAnalystOpinions': 2, 'totalCash': 49320001536, 'totalCashPerShare': 98.385, 'ebitda': 25930999808, 'totalDebt': 255537004544, 'quickRatio': 0.776, 'currentRatio': 1.15, 'totalRevenue': 324461002752, 'debtToEquity': 133.342, 'revenuePerShare': 64.7245, 'returnOnAssets': 0.02395, 'returnOnEquity': 0.07342, 'freeCashflow': 23552440320, 'operatingCashflow': 18621999104, 'earningsGrowth': -0.688, 'revenueGrowth': -0.005, 'grossMargins': 0.17282, 'ebitdaMargins': 0.07992, 'operatingMargins': 0.03621, 'financialCurrency': 'EUR', 'trailingPegRatio': 0.5899}\n",
      "Applied fetch_and_fill_data to rows with missing values.\n",
      "Explicitly assigned updated values for asset_name, sector, industry, and first_traded.\n"
     ]
    }
   ],
   "source": [
    "# Step 5: Apply the Function to Rows with Missing Data and Explicitly Assign to Columns\n",
    "updated_rows = rows_with_blanks.apply(fetch_and_fill_data, axis=1)\n",
    "print(\"Applied fetch_and_fill_data to rows with missing values.\")\n",
    "\n",
    "# Explicitly assign fetched values to ensure correct DataFrame handling\n",
    "for idx, row in updated_rows.iterrows():\n",
    "    # Use `at` to directly set values in `updated_rows`\n",
    "    master_data.at[idx, 'asset_name'] = row['asset_name']\n",
    "    master_data.at[idx, 'sector'] = row['sector']\n",
    "    master_data.at[idx, 'industry'] = row['industry']\n",
    "    master_data.at[idx, 'first_traded'] = row['first_traded']\n",
    "\n",
    "print(\"Explicitly assigned updated values for asset_name, sector, industry, and first_traded.\")\n"
   ]
  },
  {
   "cell_type": "code",
   "execution_count": 100,
   "metadata": {},
   "outputs": [
    {
     "name": "stdout",
     "output_type": "stream",
     "text": [
      "              symbol    sector                         industry\n",
      "2691       05353D103  delisted                       Technology\n",
      "2693  -SPY240930P540      Fund  Profitable and Stable Companies\n",
      "2699           SDCCQ       NaN                              NaN\n",
      "2700            OTLY       NaN                              NaN\n",
      "2701           VWAGY       NaN                              NaN\n"
     ]
    }
   ],
   "source": [
    "print(updated_rows[['symbol', 'sector', 'industry']].tail())"
   ]
  },
  {
   "cell_type": "code",
   "execution_count": 101,
   "metadata": {},
   "outputs": [
    {
     "name": "stdout",
     "output_type": "stream",
     "text": [
      "Master data updated with filled values for sector and industry.\n"
     ]
    }
   ],
   "source": [
    "# Step 6: Update the Original DataFrame with Newly Fetched Data\n",
    "master_data.update(updated_rows)\n",
    "print(\"Master data updated with filled values for sector and industry.\")"
   ]
  },
  {
   "cell_type": "code",
   "execution_count": 102,
   "metadata": {},
   "outputs": [
    {
     "name": "stdout",
     "output_type": "stream",
     "text": [
      "Data with blanks filled saved as master_data13.csv\n"
     ]
    }
   ],
   "source": [
    "# Step 7: Save the Updated Data to a New CSV File\n",
    "# Purpose: Save the DataFrame with filled data to a new CSV file, preserving the original if needed.\n",
    "\n",
    "# Save the updated DataFrame to a new CSV file\n",
    "master_data.to_csv(output_path, index=False)\n",
    "print(f\"Data with blanks filled saved as {output_path}\")\n"
   ]
  },
  {
   "cell_type": "code",
   "execution_count": 103,
   "metadata": {},
   "outputs": [],
   "source": [
    "#Step 8: Upload new master_data to database\n",
    "#use databaseUpdateFromMasterData.ipynb to do so."
   ]
  }
 ],
 "metadata": {
  "kernelspec": {
   "display_name": "base",
   "language": "python",
   "name": "python3"
  },
  "language_info": {
   "codemirror_mode": {
    "name": "ipython",
    "version": 3
   },
   "file_extension": ".py",
   "mimetype": "text/x-python",
   "name": "python",
   "nbconvert_exporter": "python",
   "pygments_lexer": "ipython3",
   "version": "3.12.4"
  }
 },
 "nbformat": 4,
 "nbformat_minor": 2
}
