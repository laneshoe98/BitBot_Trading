{
 "cells": [
  {
   "cell_type": "code",
   "execution_count": null,
   "metadata": {},
   "outputs": [],
   "source": [
    "# Step 1: Import Required Libraries\n",
    "# Purpose: Load essential libraries, including pandas for data handling and yfinance for fetching stock information.\n",
    "\n",
    "import pandas as pd  # For handling data in DataFrame format\n",
    "import yfinance as yf  # To fetch stock data from Yahoo Finance\n",
    "import time  # To add delays between API calls for rate limiting\n",
    "from tqdm import tqdm  # For displaying a progress bar in Jupyter Notebook\n"
   ]
  },
  {
   "cell_type": "code",
   "execution_count": null,
   "metadata": {},
   "outputs": [],
   "source": [
    "# Step 2: Load the master_data CSV File\n",
    "# Purpose: Load the CSV file containing stock information, some of which may have missing fields.\n",
    "\n",
    "# Define the path to your CSV file\n",
    "file_path = r'C:\\Users\\Lane\\Documents\\Projects\\trading_bot\\data\\master_data11.csv'\n",
    "output_path = 'master_data.csv'  # Define path for the updated CSV file\n",
    "\n",
    "# Load the CSV file into a DataFrame\n",
    "master_data = pd.read_csv(file_path)\n",
    "print(\"Data loaded from master_data file.\")\n"
   ]
  },
  {
   "cell_type": "code",
   "execution_count": null,
   "metadata": {},
   "outputs": [],
   "source": [
    "# Step 3: Identify Rows with Missing Data in Specific Columns\n",
    "# Purpose: Filter out rows with blanks in specified columns so we know which records need updates from yfinance.\n",
    "\n",
    "# Specify columns that need to be checked for missing data\n",
    "columns_to_check = ['asset_name', 'sector', 'industry', 'first_traded']\n",
    "\n",
    "# Identify rows with any missing data in these columns\n",
    "rows_with_blanks = master_data[master_data[columns_to_check].isnull().any(axis=1)]\n",
    "print(f\"Rows with missing values identified: {len(rows_with_blanks)} rows.\")\n"
   ]
  },
  {
   "cell_type": "code",
   "execution_count": null,
   "metadata": {},
   "outputs": [],
   "source": [
    "# Step 4: Define the Function to Fetch and Fill Data from yfinance\n",
    "# Purpose: Create a function that fetches data for each ticker symbol and fills in the missing fields.\n",
    "\n",
    "def fetch_and_fill_data(row):\n",
    "    symbol = row.get('symbol', '')  # Get the stock symbol from the row\n",
    "\n",
    "    try:\n",
    "        # Fetch stock data using yfinance\n",
    "        stock = yf.Ticker(symbol)\n",
    "        info = stock.info\n",
    "        \n",
    "        # Fill in missing 'asset_name' if blank\n",
    "        row['asset_name'] = row['asset_name'] or info.get('longName', '')\n",
    "\n",
    "        # Fill in missing 'sector' if blank\n",
    "        row['sector'] = row['sector'] or info.get('sector', '')\n",
    "\n",
    "        # Fill in missing 'industry' if blank\n",
    "        row['industry'] = row['industry'] or info.get('industry', '')\n",
    "        \n",
    "        # Handle the 'first_traded' date separately in case it's missing\n",
    "        if pd.isna(row['first_traded']) or row['first_traded'] == '':\n",
    "            # Try to get the 'firstTradeDate' from the stock info\n",
    "            first_trade_date = info.get('firstTradeDate', None)\n",
    "            \n",
    "            # If 'firstTradeDate' isn't available, use historical data as fallback\n",
    "            if not first_trade_date:\n",
    "                history_data = stock.history(period=\"max\")\n",
    "                first_trade_date = history_data.index.min().strftime('%Y-%m-%d') if not history_data.empty else ''\n",
    "            \n",
    "            # Update the row with the fetched 'first_traded' date\n",
    "            row['first_traded'] = first_trade_date\n",
    "\n",
    "    except Exception as e:\n",
    "        print(f\"Could not retrieve data for {symbol}: {e}\")\n",
    "        \n",
    "    return row  # Return the row with any new data filled in\n"
   ]
  },
  {
   "cell_type": "code",
   "execution_count": null,
   "metadata": {},
   "outputs": [],
   "source": [
    "# Step 5: Apply the Function to Rows with Missing Data\n",
    "# Purpose: Use the defined function to update missing fields for each row with blanks.\n",
    "\n",
    "# Loop through each row with missing data, fetch updates, and apply them\n",
    "for index, row in tqdm(rows_with_blanks.iterrows(), total=rows_with_blanks.shape[0]):\n",
    "    rows_with_blanks.loc[index] = fetch_and_fill_data(row)\n",
    "    time.sleep(1)  # Pause to avoid overloading the yfinance API\n",
    "\n",
    "print(\"Missing values filled where possible.\")\n"
   ]
  },
  {
   "cell_type": "code",
   "execution_count": null,
   "metadata": {},
   "outputs": [],
   "source": [
    "# Step 6: Update the Original DataFrame with Newly Fetched Data\n",
    "# Purpose: Integrate the updated rows back into the main DataFrame so that only missing fields are updated.\n",
    "\n",
    "# Update only the columns in the original DataFrame where missing data was filled\n",
    "master_data.loc[rows_with_blanks.index, columns_to_check] = rows_with_blanks[columns_to_check]\n",
    "print(\"Master data updated with filled values.\")\n"
   ]
  },
  {
   "cell_type": "code",
   "execution_count": null,
   "metadata": {},
   "outputs": [],
   "source": [
    "# Step 7: Save the Updated Data to a New CSV File\n",
    "# Purpose: Save the DataFrame with filled data to a new CSV file, preserving the original if needed.\n",
    "\n",
    "# Save the updated DataFrame to a new CSV file\n",
    "master_data.to_csv(output_path, index=False)\n",
    "print(f\"Data with blanks filled saved as {output_path}\")\n"
   ]
  },
  {
   "cell_type": "code",
   "execution_count": null,
   "metadata": {},
   "outputs": [],
   "source": [
    "#Step 8: Upload new master_data to database\n",
    "#use databaseUpdateFromMasterData.ipynb to do so."
   ]
  }
 ],
 "metadata": {
  "language_info": {
   "name": "python"
  }
 },
 "nbformat": 4,
 "nbformat_minor": 2
}
